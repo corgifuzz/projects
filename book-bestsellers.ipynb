{
 "cells": [
  {
   "cell_type": "markdown",
   "id": "379f207d",
   "metadata": {
    "papermill": {
     "duration": 0.016664,
     "end_time": "2024-02-16T05:18:27.996727",
     "exception": false,
     "start_time": "2024-02-16T05:18:27.980063",
     "status": "completed"
    },
    "tags": []
   },
   "source": [
    "# Wikipedia's Best Selling Books"
   ]
  },
  {
   "cell_type": "markdown",
   "id": "88e03c56",
   "metadata": {
    "papermill": {
     "duration": 0.015861,
     "end_time": "2024-02-16T05:18:28.029530",
     "exception": false,
     "start_time": "2024-02-16T05:18:28.013669",
     "status": "completed"
    },
    "tags": []
   },
   "source": [
    "### 1. Data Preparation\n",
    "### 2. EDA & Visualizations\n",
    "### 3. Machine Learning Modeling"
   ]
  },
  {
   "cell_type": "markdown",
   "id": "631af3b7",
   "metadata": {
    "papermill": {
     "duration": 0.015934,
     "end_time": "2024-02-16T05:18:28.062185",
     "exception": false,
     "start_time": "2024-02-16T05:18:28.046251",
     "status": "completed"
    },
    "tags": []
   },
   "source": [
    "# Import Libraries"
   ]
  },
  {
   "cell_type": "code",
   "execution_count": 1,
   "id": "4d95cf51",
   "metadata": {
    "execution": {
     "iopub.execute_input": "2024-02-16T05:18:28.097501Z",
     "iopub.status.busy": "2024-02-16T05:18:28.097079Z",
     "iopub.status.idle": "2024-02-16T05:18:46.878046Z",
     "shell.execute_reply": "2024-02-16T05:18:46.876896Z"
    },
    "papermill": {
     "duration": 18.801356,
     "end_time": "2024-02-16T05:18:46.880855",
     "exception": false,
     "start_time": "2024-02-16T05:18:28.079499",
     "status": "completed"
    },
    "tags": []
   },
   "outputs": [
    {
     "name": "stderr",
     "output_type": "stream",
     "text": [
      "2024-02-16 05:18:33.637806: E external/local_xla/xla/stream_executor/cuda/cuda_dnn.cc:9261] Unable to register cuDNN factory: Attempting to register factory for plugin cuDNN when one has already been registered\n",
      "2024-02-16 05:18:33.637927: E external/local_xla/xla/stream_executor/cuda/cuda_fft.cc:607] Unable to register cuFFT factory: Attempting to register factory for plugin cuFFT when one has already been registered\n",
      "2024-02-16 05:18:33.808774: E external/local_xla/xla/stream_executor/cuda/cuda_blas.cc:1515] Unable to register cuBLAS factory: Attempting to register factory for plugin cuBLAS when one has already been registered\n"
     ]
    }
   ],
   "source": [
    "import numpy as np\n",
    "import pandas as pd\n",
    "import re\n",
    "import matplotlib.pyplot as plt\n",
    "import seaborn as sns\n",
    "import plotly.express as px\n",
    "import tensorflow as tf\n",
    "import datetime\n",
    "\n",
    "from sklearn.model_selection import train_test_split\n",
    "from sklearn.preprocessing import LabelEncoder\n",
    "from sklearn.linear_model import LinearRegression\n",
    "from sklearn.tree import DecisionTreeRegressor\n",
    "from sklearn.ensemble import RandomForestRegressor\n",
    "from sklearn.metrics import mean_squared_error"
   ]
  },
  {
   "cell_type": "markdown",
   "id": "d4eadad3",
   "metadata": {
    "papermill": {
     "duration": 0.015882,
     "end_time": "2024-02-16T05:18:46.913319",
     "exception": false,
     "start_time": "2024-02-16T05:18:46.897437",
     "status": "completed"
    },
    "tags": []
   },
   "source": [
    "# Import Data"
   ]
  },
  {
   "cell_type": "code",
   "execution_count": 2,
   "id": "96f8d045",
   "metadata": {
    "_cell_guid": "b1076dfc-b9ad-4769-8c92-a6c4dae69d19",
    "_uuid": "8f2839f25d086af736a60e9eeb907d3b93b6e0e5",
    "execution": {
     "iopub.execute_input": "2024-02-16T05:18:46.948197Z",
     "iopub.status.busy": "2024-02-16T05:18:46.947434Z",
     "iopub.status.idle": "2024-02-16T05:18:46.959571Z",
     "shell.execute_reply": "2024-02-16T05:18:46.958301Z"
    },
    "papermill": {
     "duration": 0.032242,
     "end_time": "2024-02-16T05:18:46.961886",
     "exception": false,
     "start_time": "2024-02-16T05:18:46.929644",
     "status": "completed"
    },
    "tags": []
   },
   "outputs": [
    {
     "name": "stdout",
     "output_type": "stream",
     "text": [
      "/kaggle/input/best-selling-books/books_data.csv\n"
     ]
    }
   ],
   "source": [
    "# Input data files are available in the read-only \"../input/\" directory\n",
    "# For example, running this (by clicking run or pressing Shift+Enter) will list all files under the input directory\n",
    "\n",
    "import os\n",
    "for dirname, _, filenames in os.walk('/kaggle/input'):\n",
    "    for filename in filenames:\n",
    "        print(os.path.join(dirname, filename))"
   ]
  },
  {
   "cell_type": "code",
   "execution_count": 3,
   "id": "eb83cc2f",
   "metadata": {
    "execution": {
     "iopub.execute_input": "2024-02-16T05:18:46.996865Z",
     "iopub.status.busy": "2024-02-16T05:18:46.996390Z",
     "iopub.status.idle": "2024-02-16T05:18:47.013037Z",
     "shell.execute_reply": "2024-02-16T05:18:47.012107Z"
    },
    "papermill": {
     "duration": 0.037116,
     "end_time": "2024-02-16T05:18:47.015522",
     "exception": false,
     "start_time": "2024-02-16T05:18:46.978406",
     "status": "completed"
    },
    "tags": []
   },
   "outputs": [],
   "source": [
    "df = pd.read_csv('/kaggle/input/best-selling-books/books_data.csv')"
   ]
  },
  {
   "cell_type": "markdown",
   "id": "9f9d7a33",
   "metadata": {
    "papermill": {
     "duration": 0.016002,
     "end_time": "2024-02-16T05:18:47.048080",
     "exception": false,
     "start_time": "2024-02-16T05:18:47.032078",
     "status": "completed"
    },
    "tags": []
   },
   "source": [
    "# Data Exploration"
   ]
  },
  {
   "cell_type": "code",
   "execution_count": 4,
   "id": "04fbd4f8",
   "metadata": {
    "execution": {
     "iopub.execute_input": "2024-02-16T05:18:47.084077Z",
     "iopub.status.busy": "2024-02-16T05:18:47.083050Z",
     "iopub.status.idle": "2024-02-16T05:18:47.103319Z",
     "shell.execute_reply": "2024-02-16T05:18:47.102246Z"
    },
    "papermill": {
     "duration": 0.040805,
     "end_time": "2024-02-16T05:18:47.106011",
     "exception": false,
     "start_time": "2024-02-16T05:18:47.065206",
     "status": "completed"
    },
    "tags": []
   },
   "outputs": [
    {
     "data": {
      "text/html": [
       "<div>\n",
       "<style scoped>\n",
       "    .dataframe tbody tr th:only-of-type {\n",
       "        vertical-align: middle;\n",
       "    }\n",
       "\n",
       "    .dataframe tbody tr th {\n",
       "        vertical-align: top;\n",
       "    }\n",
       "\n",
       "    .dataframe thead th {\n",
       "        text-align: right;\n",
       "    }\n",
       "</style>\n",
       "<table border=\"1\" class=\"dataframe\">\n",
       "  <thead>\n",
       "    <tr style=\"text-align: right;\">\n",
       "      <th></th>\n",
       "      <th>Unnamed: 0</th>\n",
       "      <th>Books</th>\n",
       "      <th>Authors</th>\n",
       "      <th>Language</th>\n",
       "      <th>First_Published</th>\n",
       "      <th>Sales_in_millions</th>\n",
       "    </tr>\n",
       "  </thead>\n",
       "  <tbody>\n",
       "    <tr>\n",
       "      <th>0</th>\n",
       "      <td>0</td>\n",
       "      <td>A Tale of Two Cities</td>\n",
       "      <td>Charles Dickens</td>\n",
       "      <td>English</td>\n",
       "      <td>1859</td>\n",
       "      <td>200.0</td>\n",
       "    </tr>\n",
       "    <tr>\n",
       "      <th>1</th>\n",
       "      <td>1</td>\n",
       "      <td>The Little Prince (Le Petit Prince)</td>\n",
       "      <td>Antoine de Saint-Exupéry</td>\n",
       "      <td>French</td>\n",
       "      <td>1943</td>\n",
       "      <td>200.0</td>\n",
       "    </tr>\n",
       "    <tr>\n",
       "      <th>2</th>\n",
       "      <td>2</td>\n",
       "      <td>Harry Potter and the Philosopher's Stone</td>\n",
       "      <td>J. K. Rowling</td>\n",
       "      <td>English</td>\n",
       "      <td>1997</td>\n",
       "      <td>120.0</td>\n",
       "    </tr>\n",
       "    <tr>\n",
       "      <th>3</th>\n",
       "      <td>3</td>\n",
       "      <td>And Then There Were None</td>\n",
       "      <td>Agatha Christie</td>\n",
       "      <td>English</td>\n",
       "      <td>1939</td>\n",
       "      <td>100.0</td>\n",
       "    </tr>\n",
       "    <tr>\n",
       "      <th>4</th>\n",
       "      <td>4</td>\n",
       "      <td>Dream of the Red Chamber (紅樓夢)</td>\n",
       "      <td>Cao Xueqin</td>\n",
       "      <td>Chinese</td>\n",
       "      <td>1791</td>\n",
       "      <td>100.0</td>\n",
       "    </tr>\n",
       "  </tbody>\n",
       "</table>\n",
       "</div>"
      ],
      "text/plain": [
       "   Unnamed: 0                                     Books  \\\n",
       "0           0                      A Tale of Two Cities   \n",
       "1           1       The Little Prince (Le Petit Prince)   \n",
       "2           2  Harry Potter and the Philosopher's Stone   \n",
       "3           3                  And Then There Were None   \n",
       "4           4            Dream of the Red Chamber (紅樓夢)   \n",
       "\n",
       "                    Authors Language First_Published  Sales_in_millions  \n",
       "0           Charles Dickens  English            1859              200.0  \n",
       "1  Antoine de Saint-Exupéry   French            1943              200.0  \n",
       "2             J. K. Rowling  English            1997              120.0  \n",
       "3           Agatha Christie  English            1939              100.0  \n",
       "4                Cao Xueqin  Chinese            1791              100.0  "
      ]
     },
     "execution_count": 4,
     "metadata": {},
     "output_type": "execute_result"
    }
   ],
   "source": [
    "df.head()"
   ]
  },
  {
   "cell_type": "code",
   "execution_count": 5,
   "id": "85277832",
   "metadata": {
    "execution": {
     "iopub.execute_input": "2024-02-16T05:18:47.142391Z",
     "iopub.status.busy": "2024-02-16T05:18:47.141244Z",
     "iopub.status.idle": "2024-02-16T05:18:47.173108Z",
     "shell.execute_reply": "2024-02-16T05:18:47.172006Z"
    },
    "papermill": {
     "duration": 0.052701,
     "end_time": "2024-02-16T05:18:47.175646",
     "exception": false,
     "start_time": "2024-02-16T05:18:47.122945",
     "status": "completed"
    },
    "tags": []
   },
   "outputs": [
    {
     "name": "stdout",
     "output_type": "stream",
     "text": [
      "<class 'pandas.core.frame.DataFrame'>\n",
      "RangeIndex: 290 entries, 0 to 289\n",
      "Data columns (total 6 columns):\n",
      " #   Column             Non-Null Count  Dtype  \n",
      "---  ------             --------------  -----  \n",
      " 0   Unnamed: 0         290 non-null    int64  \n",
      " 1   Books              290 non-null    object \n",
      " 2   Authors            290 non-null    object \n",
      " 3   Language           290 non-null    object \n",
      " 4   First_Published    290 non-null    object \n",
      " 5   Sales_in_millions  288 non-null    float64\n",
      "dtypes: float64(1), int64(1), object(4)\n",
      "memory usage: 13.7+ KB\n"
     ]
    }
   ],
   "source": [
    "df.info()"
   ]
  },
  {
   "cell_type": "code",
   "execution_count": 6,
   "id": "a9e1aa3e",
   "metadata": {
    "execution": {
     "iopub.execute_input": "2024-02-16T05:18:47.211876Z",
     "iopub.status.busy": "2024-02-16T05:18:47.210655Z",
     "iopub.status.idle": "2024-02-16T05:18:47.220181Z",
     "shell.execute_reply": "2024-02-16T05:18:47.219017Z"
    },
    "papermill": {
     "duration": 0.029895,
     "end_time": "2024-02-16T05:18:47.222414",
     "exception": false,
     "start_time": "2024-02-16T05:18:47.192519",
     "status": "completed"
    },
    "tags": []
   },
   "outputs": [
    {
     "data": {
      "text/plain": [
       "Unnamed: 0           0\n",
       "Books                0\n",
       "Authors              0\n",
       "Language             0\n",
       "First_Published      0\n",
       "Sales_in_millions    2\n",
       "dtype: int64"
      ]
     },
     "execution_count": 6,
     "metadata": {},
     "output_type": "execute_result"
    }
   ],
   "source": [
    "df.isna().sum()"
   ]
  },
  {
   "cell_type": "markdown",
   "id": "1d87e8d3",
   "metadata": {
    "papermill": {
     "duration": 0.016871,
     "end_time": "2024-02-16T05:18:47.256395",
     "exception": false,
     "start_time": "2024-02-16T05:18:47.239524",
     "status": "completed"
    },
    "tags": []
   },
   "source": [
    "# Data Cleaning and Transformation"
   ]
  },
  {
   "cell_type": "markdown",
   "id": "32c353ff",
   "metadata": {
    "papermill": {
     "duration": 0.01669,
     "end_time": "2024-02-16T05:18:47.290256",
     "exception": false,
     "start_time": "2024-02-16T05:18:47.273566",
     "status": "completed"
    },
    "tags": []
   },
   "source": [
    "## Drop duplicates"
   ]
  },
  {
   "cell_type": "code",
   "execution_count": 7,
   "id": "c5562f6a",
   "metadata": {
    "execution": {
     "iopub.execute_input": "2024-02-16T05:18:47.327166Z",
     "iopub.status.busy": "2024-02-16T05:18:47.326160Z",
     "iopub.status.idle": "2024-02-16T05:18:47.346792Z",
     "shell.execute_reply": "2024-02-16T05:18:47.345661Z"
    },
    "papermill": {
     "duration": 0.041632,
     "end_time": "2024-02-16T05:18:47.349411",
     "exception": false,
     "start_time": "2024-02-16T05:18:47.307779",
     "status": "completed"
    },
    "tags": []
   },
   "outputs": [
    {
     "data": {
      "text/html": [
       "<div>\n",
       "<style scoped>\n",
       "    .dataframe tbody tr th:only-of-type {\n",
       "        vertical-align: middle;\n",
       "    }\n",
       "\n",
       "    .dataframe tbody tr th {\n",
       "        vertical-align: top;\n",
       "    }\n",
       "\n",
       "    .dataframe thead th {\n",
       "        text-align: right;\n",
       "    }\n",
       "</style>\n",
       "<table border=\"1\" class=\"dataframe\">\n",
       "  <thead>\n",
       "    <tr style=\"text-align: right;\">\n",
       "      <th></th>\n",
       "      <th>Unnamed: 0</th>\n",
       "      <th>Books</th>\n",
       "      <th>Authors</th>\n",
       "      <th>Language</th>\n",
       "      <th>First_Published</th>\n",
       "      <th>Sales_in_millions</th>\n",
       "    </tr>\n",
       "  </thead>\n",
       "  <tbody>\n",
       "    <tr>\n",
       "      <th>0</th>\n",
       "      <td>0</td>\n",
       "      <td>A Tale of Two Cities</td>\n",
       "      <td>Charles Dickens</td>\n",
       "      <td>English</td>\n",
       "      <td>1859</td>\n",
       "      <td>200.0</td>\n",
       "    </tr>\n",
       "    <tr>\n",
       "      <th>1</th>\n",
       "      <td>1</td>\n",
       "      <td>The Little Prince (Le Petit Prince)</td>\n",
       "      <td>Antoine de Saint-Exupéry</td>\n",
       "      <td>French</td>\n",
       "      <td>1943</td>\n",
       "      <td>200.0</td>\n",
       "    </tr>\n",
       "    <tr>\n",
       "      <th>2</th>\n",
       "      <td>2</td>\n",
       "      <td>Harry Potter and the Philosopher's Stone</td>\n",
       "      <td>J. K. Rowling</td>\n",
       "      <td>English</td>\n",
       "      <td>1997</td>\n",
       "      <td>120.0</td>\n",
       "    </tr>\n",
       "    <tr>\n",
       "      <th>3</th>\n",
       "      <td>3</td>\n",
       "      <td>And Then There Were None</td>\n",
       "      <td>Agatha Christie</td>\n",
       "      <td>English</td>\n",
       "      <td>1939</td>\n",
       "      <td>100.0</td>\n",
       "    </tr>\n",
       "    <tr>\n",
       "      <th>4</th>\n",
       "      <td>4</td>\n",
       "      <td>Dream of the Red Chamber (紅樓夢)</td>\n",
       "      <td>Cao Xueqin</td>\n",
       "      <td>Chinese</td>\n",
       "      <td>1791</td>\n",
       "      <td>100.0</td>\n",
       "    </tr>\n",
       "    <tr>\n",
       "      <th>...</th>\n",
       "      <td>...</td>\n",
       "      <td>...</td>\n",
       "      <td>...</td>\n",
       "      <td>...</td>\n",
       "      <td>...</td>\n",
       "      <td>...</td>\n",
       "    </tr>\n",
       "    <tr>\n",
       "      <th>285</th>\n",
       "      <td>285</td>\n",
       "      <td>The No. 1 Ladies Detective Agency</td>\n",
       "      <td>Alexander McCall Smith</td>\n",
       "      <td>English</td>\n",
       "      <td>1999–present</td>\n",
       "      <td>15.0</td>\n",
       "    </tr>\n",
       "    <tr>\n",
       "      <th>286</th>\n",
       "      <td>286</td>\n",
       "      <td>Der Regenbogenfisch (Rainbow Fish)</td>\n",
       "      <td>Marcus Pfister</td>\n",
       "      <td>German</td>\n",
       "      <td>1992–present</td>\n",
       "      <td>15.0</td>\n",
       "    </tr>\n",
       "    <tr>\n",
       "      <th>287</th>\n",
       "      <td>287</td>\n",
       "      <td>The Riftwar Cycle</td>\n",
       "      <td>Raymond E. Feist</td>\n",
       "      <td>English</td>\n",
       "      <td>1982–present</td>\n",
       "      <td>15.0</td>\n",
       "    </tr>\n",
       "    <tr>\n",
       "      <th>288</th>\n",
       "      <td>288</td>\n",
       "      <td>The Thrawn trilogy</td>\n",
       "      <td>Timothy Zahn</td>\n",
       "      <td>English</td>\n",
       "      <td>1991–93</td>\n",
       "      <td>15.0</td>\n",
       "    </tr>\n",
       "    <tr>\n",
       "      <th>289</th>\n",
       "      <td>289</td>\n",
       "      <td>Wiedźmin (The Witcher)</td>\n",
       "      <td>Andrzej Sapkowski</td>\n",
       "      <td>Polish</td>\n",
       "      <td>1990–2013</td>\n",
       "      <td>15.0</td>\n",
       "    </tr>\n",
       "  </tbody>\n",
       "</table>\n",
       "<p>290 rows × 6 columns</p>\n",
       "</div>"
      ],
      "text/plain": [
       "     Unnamed: 0                                     Books  \\\n",
       "0             0                      A Tale of Two Cities   \n",
       "1             1       The Little Prince (Le Petit Prince)   \n",
       "2             2  Harry Potter and the Philosopher's Stone   \n",
       "3             3                  And Then There Were None   \n",
       "4             4            Dream of the Red Chamber (紅樓夢)   \n",
       "..          ...                                       ...   \n",
       "285         285         The No. 1 Ladies Detective Agency   \n",
       "286         286        Der Regenbogenfisch (Rainbow Fish)   \n",
       "287         287                         The Riftwar Cycle   \n",
       "288         288                        The Thrawn trilogy   \n",
       "289         289                    Wiedźmin (The Witcher)   \n",
       "\n",
       "                      Authors Language First_Published  Sales_in_millions  \n",
       "0             Charles Dickens  English            1859              200.0  \n",
       "1    Antoine de Saint-Exupéry   French            1943              200.0  \n",
       "2               J. K. Rowling  English            1997              120.0  \n",
       "3             Agatha Christie  English            1939              100.0  \n",
       "4                  Cao Xueqin  Chinese            1791              100.0  \n",
       "..                        ...      ...             ...                ...  \n",
       "285    Alexander McCall Smith  English    1999–present               15.0  \n",
       "286            Marcus Pfister   German    1992–present               15.0  \n",
       "287          Raymond E. Feist  English    1982–present               15.0  \n",
       "288              Timothy Zahn  English         1991–93               15.0  \n",
       "289         Andrzej Sapkowski   Polish       1990–2013               15.0  \n",
       "\n",
       "[290 rows x 6 columns]"
      ]
     },
     "execution_count": 7,
     "metadata": {},
     "output_type": "execute_result"
    }
   ],
   "source": [
    "df = df.drop_duplicates()\n",
    "df"
   ]
  },
  {
   "cell_type": "markdown",
   "id": "808af23d",
   "metadata": {
    "execution": {
     "iopub.execute_input": "2024-02-16T03:16:46.632070Z",
     "iopub.status.busy": "2024-02-16T03:16:46.631647Z",
     "iopub.status.idle": "2024-02-16T03:16:46.642726Z",
     "shell.execute_reply": "2024-02-16T03:16:46.641556Z",
     "shell.execute_reply.started": "2024-02-16T03:16:46.632040Z"
    },
    "papermill": {
     "duration": 0.017222,
     "end_time": "2024-02-16T05:18:47.384776",
     "exception": false,
     "start_time": "2024-02-16T05:18:47.367554",
     "status": "completed"
    },
    "tags": []
   },
   "source": [
    "## Perform Label Encoding"
   ]
  },
  {
   "cell_type": "markdown",
   "id": "77acae5d",
   "metadata": {
    "papermill": {
     "duration": 0.017486,
     "end_time": "2024-02-16T05:18:47.420111",
     "exception": false,
     "start_time": "2024-02-16T05:18:47.402625",
     "status": "completed"
    },
    "tags": []
   },
   "source": [
    "### Transform \"Languages\" variable"
   ]
  },
  {
   "cell_type": "code",
   "execution_count": 8,
   "id": "960877b5",
   "metadata": {
    "execution": {
     "iopub.execute_input": "2024-02-16T05:18:47.457733Z",
     "iopub.status.busy": "2024-02-16T05:18:47.457008Z",
     "iopub.status.idle": "2024-02-16T05:18:47.465942Z",
     "shell.execute_reply": "2024-02-16T05:18:47.464869Z"
    },
    "papermill": {
     "duration": 0.030468,
     "end_time": "2024-02-16T05:18:47.468791",
     "exception": false,
     "start_time": "2024-02-16T05:18:47.438323",
     "status": "completed"
    },
    "tags": []
   },
   "outputs": [
    {
     "name": "stdout",
     "output_type": "stream",
     "text": [
      "Language Mapping:\n",
      "Chinese: 0\n",
      "Czech: 1\n",
      "Dutch: 2\n",
      "English: 3\n",
      "French: 4\n",
      "German: 5\n",
      "Gujarati: 6\n",
      "Italian: 7\n",
      "Japanese: 8\n",
      "Norwegian: 9\n",
      "Polish: 10\n",
      "Portuguese: 11\n",
      "Russian: 12\n",
      "Spanish: 13\n",
      "Swedish: 14\n",
      "Yiddish: 15\n"
     ]
    }
   ],
   "source": [
    "# Assign numerical labels to each category from the \"language\" column\n",
    "le = LabelEncoder()\n",
    "df['Language_encoded'] = le.fit_transform(df['Language'])\n",
    "\n",
    "language_mapping = dict(zip(le.classes_, le.transform(le.classes_)))\n",
    "print(\"Language Mapping:\")\n",
    "for language, encoded_value in language_mapping.items():\n",
    "    print(f\"{language}: {encoded_value}\")"
   ]
  },
  {
   "cell_type": "markdown",
   "id": "aa9b2169",
   "metadata": {
    "papermill": {
     "duration": 0.017305,
     "end_time": "2024-02-16T05:18:47.503653",
     "exception": false,
     "start_time": "2024-02-16T05:18:47.486348",
     "status": "completed"
    },
    "tags": []
   },
   "source": [
    "### Simplify \"First_Published\" variable"
   ]
  },
  {
   "cell_type": "code",
   "execution_count": 9,
   "id": "f151c5df",
   "metadata": {
    "execution": {
     "iopub.execute_input": "2024-02-16T05:18:47.541047Z",
     "iopub.status.busy": "2024-02-16T05:18:47.540671Z",
     "iopub.status.idle": "2024-02-16T05:18:47.564773Z",
     "shell.execute_reply": "2024-02-16T05:18:47.563668Z"
    },
    "papermill": {
     "duration": 0.045732,
     "end_time": "2024-02-16T05:18:47.567126",
     "exception": false,
     "start_time": "2024-02-16T05:18:47.521394",
     "status": "completed"
    },
    "tags": []
   },
   "outputs": [
    {
     "data": {
      "text/html": [
       "<div>\n",
       "<style scoped>\n",
       "    .dataframe tbody tr th:only-of-type {\n",
       "        vertical-align: middle;\n",
       "    }\n",
       "\n",
       "    .dataframe tbody tr th {\n",
       "        vertical-align: top;\n",
       "    }\n",
       "\n",
       "    .dataframe thead th {\n",
       "        text-align: right;\n",
       "    }\n",
       "</style>\n",
       "<table border=\"1\" class=\"dataframe\">\n",
       "  <thead>\n",
       "    <tr style=\"text-align: right;\">\n",
       "      <th></th>\n",
       "      <th>Unnamed: 0</th>\n",
       "      <th>Books</th>\n",
       "      <th>Authors</th>\n",
       "      <th>Language</th>\n",
       "      <th>published_during</th>\n",
       "      <th>Sales_in_millions</th>\n",
       "      <th>Language_encoded</th>\n",
       "      <th>year_published</th>\n",
       "    </tr>\n",
       "  </thead>\n",
       "  <tbody>\n",
       "    <tr>\n",
       "      <th>0</th>\n",
       "      <td>0</td>\n",
       "      <td>A Tale of Two Cities</td>\n",
       "      <td>Charles Dickens</td>\n",
       "      <td>English</td>\n",
       "      <td>1859</td>\n",
       "      <td>200.0</td>\n",
       "      <td>3</td>\n",
       "      <td>1859</td>\n",
       "    </tr>\n",
       "    <tr>\n",
       "      <th>1</th>\n",
       "      <td>1</td>\n",
       "      <td>The Little Prince (Le Petit Prince)</td>\n",
       "      <td>Antoine de Saint-Exupéry</td>\n",
       "      <td>French</td>\n",
       "      <td>1943</td>\n",
       "      <td>200.0</td>\n",
       "      <td>4</td>\n",
       "      <td>1943</td>\n",
       "    </tr>\n",
       "    <tr>\n",
       "      <th>2</th>\n",
       "      <td>2</td>\n",
       "      <td>Harry Potter and the Philosopher's Stone</td>\n",
       "      <td>J. K. Rowling</td>\n",
       "      <td>English</td>\n",
       "      <td>1997</td>\n",
       "      <td>120.0</td>\n",
       "      <td>3</td>\n",
       "      <td>1997</td>\n",
       "    </tr>\n",
       "    <tr>\n",
       "      <th>3</th>\n",
       "      <td>3</td>\n",
       "      <td>And Then There Were None</td>\n",
       "      <td>Agatha Christie</td>\n",
       "      <td>English</td>\n",
       "      <td>1939</td>\n",
       "      <td>100.0</td>\n",
       "      <td>3</td>\n",
       "      <td>1939</td>\n",
       "    </tr>\n",
       "    <tr>\n",
       "      <th>4</th>\n",
       "      <td>4</td>\n",
       "      <td>Dream of the Red Chamber (紅樓夢)</td>\n",
       "      <td>Cao Xueqin</td>\n",
       "      <td>Chinese</td>\n",
       "      <td>1791</td>\n",
       "      <td>100.0</td>\n",
       "      <td>0</td>\n",
       "      <td>1791</td>\n",
       "    </tr>\n",
       "    <tr>\n",
       "      <th>...</th>\n",
       "      <td>...</td>\n",
       "      <td>...</td>\n",
       "      <td>...</td>\n",
       "      <td>...</td>\n",
       "      <td>...</td>\n",
       "      <td>...</td>\n",
       "      <td>...</td>\n",
       "      <td>...</td>\n",
       "    </tr>\n",
       "    <tr>\n",
       "      <th>285</th>\n",
       "      <td>285</td>\n",
       "      <td>The No. 1 Ladies Detective Agency</td>\n",
       "      <td>Alexander McCall Smith</td>\n",
       "      <td>English</td>\n",
       "      <td>1999–present</td>\n",
       "      <td>15.0</td>\n",
       "      <td>3</td>\n",
       "      <td>1999</td>\n",
       "    </tr>\n",
       "    <tr>\n",
       "      <th>286</th>\n",
       "      <td>286</td>\n",
       "      <td>Der Regenbogenfisch (Rainbow Fish)</td>\n",
       "      <td>Marcus Pfister</td>\n",
       "      <td>German</td>\n",
       "      <td>1992–present</td>\n",
       "      <td>15.0</td>\n",
       "      <td>5</td>\n",
       "      <td>1992</td>\n",
       "    </tr>\n",
       "    <tr>\n",
       "      <th>287</th>\n",
       "      <td>287</td>\n",
       "      <td>The Riftwar Cycle</td>\n",
       "      <td>Raymond E. Feist</td>\n",
       "      <td>English</td>\n",
       "      <td>1982–present</td>\n",
       "      <td>15.0</td>\n",
       "      <td>3</td>\n",
       "      <td>1982</td>\n",
       "    </tr>\n",
       "    <tr>\n",
       "      <th>288</th>\n",
       "      <td>288</td>\n",
       "      <td>The Thrawn trilogy</td>\n",
       "      <td>Timothy Zahn</td>\n",
       "      <td>English</td>\n",
       "      <td>1991–93</td>\n",
       "      <td>15.0</td>\n",
       "      <td>3</td>\n",
       "      <td>1991</td>\n",
       "    </tr>\n",
       "    <tr>\n",
       "      <th>289</th>\n",
       "      <td>289</td>\n",
       "      <td>Wiedźmin (The Witcher)</td>\n",
       "      <td>Andrzej Sapkowski</td>\n",
       "      <td>Polish</td>\n",
       "      <td>1990–2013</td>\n",
       "      <td>15.0</td>\n",
       "      <td>10</td>\n",
       "      <td>1990</td>\n",
       "    </tr>\n",
       "  </tbody>\n",
       "</table>\n",
       "<p>290 rows × 8 columns</p>\n",
       "</div>"
      ],
      "text/plain": [
       "     Unnamed: 0                                     Books  \\\n",
       "0             0                      A Tale of Two Cities   \n",
       "1             1       The Little Prince (Le Petit Prince)   \n",
       "2             2  Harry Potter and the Philosopher's Stone   \n",
       "3             3                  And Then There Were None   \n",
       "4             4            Dream of the Red Chamber (紅樓夢)   \n",
       "..          ...                                       ...   \n",
       "285         285         The No. 1 Ladies Detective Agency   \n",
       "286         286        Der Regenbogenfisch (Rainbow Fish)   \n",
       "287         287                         The Riftwar Cycle   \n",
       "288         288                        The Thrawn trilogy   \n",
       "289         289                    Wiedźmin (The Witcher)   \n",
       "\n",
       "                      Authors Language published_during  Sales_in_millions  \\\n",
       "0             Charles Dickens  English             1859              200.0   \n",
       "1    Antoine de Saint-Exupéry   French             1943              200.0   \n",
       "2               J. K. Rowling  English             1997              120.0   \n",
       "3             Agatha Christie  English             1939              100.0   \n",
       "4                  Cao Xueqin  Chinese             1791              100.0   \n",
       "..                        ...      ...              ...                ...   \n",
       "285    Alexander McCall Smith  English     1999–present               15.0   \n",
       "286            Marcus Pfister   German     1992–present               15.0   \n",
       "287          Raymond E. Feist  English     1982–present               15.0   \n",
       "288              Timothy Zahn  English          1991–93               15.0   \n",
       "289         Andrzej Sapkowski   Polish        1990–2013               15.0   \n",
       "\n",
       "     Language_encoded  year_published  \n",
       "0                   3            1859  \n",
       "1                   4            1943  \n",
       "2                   3            1997  \n",
       "3                   3            1939  \n",
       "4                   0            1791  \n",
       "..                ...             ...  \n",
       "285                 3            1999  \n",
       "286                 5            1992  \n",
       "287                 3            1982  \n",
       "288                 3            1991  \n",
       "289                10            1990  \n",
       "\n",
       "[290 rows x 8 columns]"
      ]
     },
     "execution_count": 9,
     "metadata": {},
     "output_type": "execute_result"
    }
   ],
   "source": [
    "# Convert 'First_Published' to a string (if it's not already)\n",
    "df['First_Published'] = df['First_Published'].astype(str)\n",
    "\n",
    "# Extract the initial publication year\n",
    "df['year_published'] = df['First_Published'].str.extract(r'(\\d{4})')\n",
    "\n",
    "# Convert the new column to numeric (optional, if needed)\n",
    "df['year_published'] = pd.to_numeric(df['year_published'], errors='coerce')\n",
    "\n",
    "df = df.rename(columns={'First_Published': 'published_during'})\n",
    "\n",
    "df"
   ]
  },
  {
   "cell_type": "markdown",
   "id": "fb7325f4",
   "metadata": {
    "papermill": {
     "duration": 0.017719,
     "end_time": "2024-02-16T05:18:47.602930",
     "exception": false,
     "start_time": "2024-02-16T05:18:47.585211",
     "status": "completed"
    },
    "tags": []
   },
   "source": [
    "## Label encoding for \"Authors\" column"
   ]
  },
  {
   "cell_type": "code",
   "execution_count": 10,
   "id": "973ae0ea",
   "metadata": {
    "execution": {
     "iopub.execute_input": "2024-02-16T05:18:47.640438Z",
     "iopub.status.busy": "2024-02-16T05:18:47.640005Z",
     "iopub.status.idle": "2024-02-16T05:18:47.647556Z",
     "shell.execute_reply": "2024-02-16T05:18:47.646476Z"
    },
    "papermill": {
     "duration": 0.029163,
     "end_time": "2024-02-16T05:18:47.649930",
     "exception": false,
     "start_time": "2024-02-16T05:18:47.620767",
     "status": "completed"
    },
    "tags": []
   },
   "outputs": [],
   "source": [
    "le_author = LabelEncoder()\n",
    "df['Authors_encoded'] = le_author.fit_transform(df['Authors'])"
   ]
  },
  {
   "cell_type": "code",
   "execution_count": 11,
   "id": "06ec46bb",
   "metadata": {
    "execution": {
     "iopub.execute_input": "2024-02-16T05:18:47.747576Z",
     "iopub.status.busy": "2024-02-16T05:18:47.747163Z",
     "iopub.status.idle": "2024-02-16T05:18:47.756695Z",
     "shell.execute_reply": "2024-02-16T05:18:47.755496Z"
    },
    "papermill": {
     "duration": 0.091431,
     "end_time": "2024-02-16T05:18:47.759489",
     "exception": false,
     "start_time": "2024-02-16T05:18:47.668058",
     "status": "completed"
    },
    "tags": []
   },
   "outputs": [
    {
     "name": "stdout",
     "output_type": "stream",
     "text": [
      "Author Mapping:\n",
      "A. A. Milne; illustrated by E. H. Shepard: 0\n",
      "Agatha Christie: 1\n",
      "Albert Camus: 2\n",
      "Alex Comfort: 3\n",
      "Alexander Alexandrovich Fadeyev: 4\n",
      "Alexander McCall Smith: 5\n",
      "Alf Wight, as James Herriot: 6\n",
      "Alice Sebold: 7\n",
      "Andrew Morton: 8\n",
      "Andrzej Sapkowski: 9\n",
      "Ann Martin: 10\n",
      "Anna Sewell: 11\n",
      "Anne Frank: 12\n",
      "Anne McCaffrey: 13\n",
      "Anne Rice: 14\n",
      "Anthony Doerr: 15\n",
      "Antoine de Saint-Exupéry: 16\n",
      "Arlene Eisenberg and Heidi Murkoff: 17\n",
      "Arthur Agatston: 18\n",
      "Astrid Lindgren: 19\n",
      "Banana Yoshimoto: 20\n",
      "Barbara Park: 21\n",
      "Beatrix Potter: 22\n",
      "Benjamin Spock: 23\n",
      "Beverly Cleary: 24\n",
      "Boris Akunin: 25\n",
      "Brandon Sanderson: 26\n",
      "Brian Jacques: 27\n",
      "C. S. Lewis: 28\n",
      "Cao Xueqin: 29\n",
      "Carl Sagan: 30\n",
      "Carlo Collodi: 31\n",
      "Carlos Ruiz Zafón: 32\n",
      "Cassandra Clare: 33\n",
      "Charlaine Harris: 34\n",
      "Charles Berlitz: 35\n",
      "Charles Dickens: 36\n",
      "Chinua Achebe: 37\n",
      "Christopher Paolini: 38\n",
      "Clive Cussler: 39\n",
      "Colleen McCullough: 40\n",
      "Daisy Meadows: 41\n",
      "Dale Carnegie: 42\n",
      "Dan Brown: 43\n",
      "Dante Alighieri: 44\n",
      "Daphne du Maurier: 45\n",
      "Dav Pilkey: 46\n",
      "Delia Owens: 47\n",
      "Desmond Morris: 48\n",
      "Diana Gabaldon: 49\n",
      "Dick Bruna: 50\n",
      "Douglas Adams: 51\n",
      "Douglas Adams, plus a final book by Eoin Colfer: 52\n",
      "Dr. Seuss: 53\n",
      "E. B. White; illustrated by Garth Williams: 54\n",
      "E. L. James: 55\n",
      "Edgar Rice Burroughs: 56\n",
      "Eiji Yoshikawa: 57\n",
      "Elbert Hubbard: 58\n",
      "Elie Wiesel: 59\n",
      "Elisabetta Dami: 60\n",
      "Eliyahu M. Goldratt: 61\n",
      "Enid Blyton: 62\n",
      "Eoin Colfer: 63\n",
      "Eric Carle: 64\n",
      "Erica Jong: 65\n",
      "Erich Segal: 66\n",
      "Erin Hunter: 67\n",
      "Erle Stanley Gardner: 68\n",
      "Ernest Hemingway: 69\n",
      "Erskine Caldwell: 70\n",
      "F. Scott Fitzgerald: 71\n",
      "Francine Pascal and ghostwriters: 72\n",
      "Frank Herbert: 73\n",
      "Frank McCourt: 74\n",
      "Frédéric Dard: 75\n",
      "Gabriel García Márquez: 76\n",
      "George R. R. Martin: 77\n",
      "Gilbert Delahaye, Marcel Marlier: 78\n",
      "Gilbert Patten: 79\n",
      "Gillian Flynn: 80\n",
      "Grace Metalious: 81\n",
      "Gérard de Villiers: 82\n",
      "H. Rider Haggard: 83\n",
      "Hajime Kanzaka: 84\n",
      "Hans Augusto Rey and Margret Rey: 85\n",
      "Harper Lee: 86\n",
      "Haruki Murakami: 87\n",
      "Helen Fielding: 88\n",
      "Henning Mankell: 89\n",
      "Hideyuki Kikuchi: 90\n",
      "Hiroyuki Itsuki: 91\n",
      "Ian Fleming: 92\n",
      "Irving Stone: 93\n",
      "Isaac Asimov: 94\n",
      "Ivan Yefremov: 95\n",
      "J. D. Salinger: 96\n",
      "J. K. Rowling: 97\n",
      "J. P. Donleavy: 98\n",
      "J. R. R. Tolkien: 99\n",
      "Jack Canfield, Mark Victor Hansen: 100\n",
      "Jack Higgins: 101\n",
      "Jacqueline Susann: 102\n",
      "Jacques-Henri Bernardin de Saint-Pierre: 103\n",
      "James Clavell: 104\n",
      "James Patterson: 105\n",
      "James Redfield: 106\n",
      "Jane Austen: 107\n",
      "Janette Sebring Lowrey: 108\n",
      "Jaroslav Hašek: 109\n",
      "Jean Bruce: 110\n",
      "Jean M. Auel: 111\n",
      "Jeff Kinney: 112\n",
      "Jeffrey Archer: 113\n",
      "Jhumpa Lahiri: 114\n",
      "Jiang Rong: 115\n",
      "Jirō Akagawa: 116\n",
      "Jo Nesbø: 117\n",
      "Joanna Cole, illustrated by Bruce Degen: 118\n",
      "Johanna Spyri: 119\n",
      "John Boyne: 120\n",
      "John Gray: 121\n",
      "John Green: 122\n",
      "John Steinbeck: 123\n",
      "Jojo Moyes: 124\n",
      "Joseph Heller: 125\n",
      "Jostein Gaarder: 126\n",
      "Julia Donaldson: 127\n",
      "Jung Chang: 128\n",
      "Kahlil Gibran: 129\n",
      "Kaoru Kurimoto: 130\n",
      "Kathryn Stockett: 131\n",
      "Kazuma Kamachi: 132\n",
      "Kazumasa Hirai: 133\n",
      "Ken Follett: 134\n",
      "Kenneth Grahame: 135\n",
      "Khaled Hosseini: 136\n",
      "Laura Ingalls Wilder: 137\n",
      "Lauren Tarshis: 138\n",
      "Lee Child: 139\n",
      "Lemony Snicket aka Daniel Handler: 140\n",
      "Leo Tolstoy: 141\n",
      "Lester Dent, various authors: 142\n",
      "Liu Cixin: 143\n",
      "Lois Lowry: 144\n",
      "Louis Masterson: 145\n",
      "Lucy Cousins: 146\n",
      "Lucy Maud Montgomery: 147\n",
      "Madeleine L'Engle: 148\n",
      "Marabel Morgan: 149\n",
      "Marcus Pfister: 150\n",
      "Margaret Mitchell: 151\n",
      "Margaret Wise Brown: 152\n",
      "Margit Sandemo: 153\n",
      "Marilyn French: 154\n",
      "Mario Puzo: 155\n",
      "Mark Manson: 156\n",
      "Mark Twain: 157\n",
      "Markus Zusak: 158\n",
      "Martin Handford: 159\n",
      "Mary Pope Osborne: 160\n",
      "Masamoto Nasu: 161\n",
      "Maurice Sendak: 162\n",
      "Mercer Mayer: 163\n",
      "Michael Bond: 164\n",
      "Michael Connelly: 165\n",
      "Michael Ende: 166\n",
      "Michelle Obama: 167\n",
      "Mikhail Sholokhov: 168\n",
      "Mitch Albom: 169\n",
      "Mohandas Karamchand Gandhi: 170\n",
      "Nagaru Tanigawa: 171\n",
      "Nelson Mandela: 172\n",
      "Nicholas Evans: 173\n",
      "Nikolai Ostrovsky: 174\n",
      "Norman Bridwell: 175\n",
      "Norman Vincent Peale: 176\n",
      "Osamu Dazai: 177\n",
      "Osamu Soda: 178\n",
      "Patricia Nell Warren: 179\n",
      "Patrick Süskind: 180\n",
      "Paula Hawkins: 181\n",
      "Paulo Coelho: 182\n",
      "Peter Benchley: 183\n",
      "Philip Pullman: 184\n",
      "Pierre Dukan: 185\n",
      "R. L. Stine: 186\n",
      "Rachel Renée Russell: 187\n",
      "Ray Bradbury: 188\n",
      "Raymond E. Feist: 189\n",
      "Raymond Moody: 190\n",
      "Reki Kawahara: 191\n",
      "Rev. W. Awdry, Christopher Awdry: 192\n",
      "Rhonda Byrne: 193\n",
      "Richard Adams: 194\n",
      "Richard Bach: 195\n",
      "Richard Nelson Bolles: 196\n",
      "Rick Riordan: 197\n",
      "Roald Dahl: 198\n",
      "Robert James Waller: 199\n",
      "Robert Jordan, Brandon Sanderson: 200\n",
      "Robert Kiyosaki, Sharon Lechter: 201\n",
      "Robert L. Short: 202\n",
      "Robert Munsch: 203\n",
      "Roger Hargreaves, Adam Hargreaves: 204\n",
      "Ryōtarō Shiba: 205\n",
      "S. E. Hinton: 206\n",
      "Sachiko Kiyono: 207\n",
      "Sam McBratney: 208\n",
      "Sergey Mikhalkov: 209\n",
      "Shere Hite: 210\n",
      "Shotaro Ikenami: 211\n",
      "Shōtarō Ikenami: 212\n",
      "Spencer Johnson: 213\n",
      "Stan and Jan Berenstain: 214\n",
      "Stephen Hawking: 215\n",
      "Stephen King: 216\n",
      "Stephen R. Covey: 217\n",
      "Stephenie Meyer: 218\n",
      "Stieg Larsson: 219\n",
      "Stieg Larsson, David Lagercrantz: 220\n",
      "Sue Townsend: 221\n",
      "Susanna Tamaro: 222\n",
      "Suzanne Collins: 223\n",
      "Sōhachi Yamaoka: 224\n",
      "Taichi Sakaiya: 225\n",
      "Takashi Yanase: 226\n",
      "Terry Brooks: 227\n",
      "Terry Deary: 228\n",
      "Terry Goodkind: 229\n",
      "Terry Pratchett: 230\n",
      "Tetsuko Kuroyanagi: 231\n",
      "Thor Heyerdahl: 232\n",
      "Tim LaHaye, Jerry B. Jenkins: 233\n",
      "Timothy Zahn: 234\n",
      "Tomás Eloy Martínez: 235\n",
      "Umberto Eco: 236\n",
      "V. C. Andrews: 237\n",
      "Various authors: 238\n",
      "Various authors as Carolyn Keene: 239\n",
      "Various authors as Franklin W. Dixon: 240\n",
      "Various authors as Laura Lee Hope: 241\n",
      "Veronica Roth: 242\n",
      "Viktor Frankl: 243\n",
      "Vladimir Nabokov: 244\n",
      "Warren Murphy and Richard Sapir, various authors: 245\n",
      "Wayne Dyer: 246\n",
      "William Bradford Huie: 247\n",
      "William Griffith Wilson: 248\n",
      "William P. Young: 249\n",
      "William Peter Blatty: 250\n",
      "Xaviera Hollander: 251\n",
      "Xue Muqiao: 252\n",
      "Yann Martel: 253\n",
      "Yoshiki Tanaka: 254\n",
      "Yu Dan: 255\n",
      "Yutaka Hara: 256\n",
      "original author: Liu Zhixia: 257\n"
     ]
    }
   ],
   "source": [
    "# Display the mapping of original authors to encoded numbers\n",
    "author_mapping = dict(zip(le_author.classes_, le_author.transform(le_author.classes_)))\n",
    "print(\"Author Mapping:\")\n",
    "for author, encoded_value in author_mapping.items():\n",
    "    print(f\"{author}: {encoded_value}\")"
   ]
  },
  {
   "cell_type": "markdown",
   "id": "aced3567",
   "metadata": {
    "execution": {
     "iopub.execute_input": "2024-02-16T03:52:33.128352Z",
     "iopub.status.busy": "2024-02-16T03:52:33.127131Z",
     "iopub.status.idle": "2024-02-16T03:52:33.155193Z",
     "shell.execute_reply": "2024-02-16T03:52:33.153163Z",
     "shell.execute_reply.started": "2024-02-16T03:52:33.128300Z"
    },
    "papermill": {
     "duration": 0.018637,
     "end_time": "2024-02-16T05:18:47.796508",
     "exception": false,
     "start_time": "2024-02-16T05:18:47.777871",
     "status": "completed"
    },
    "tags": []
   },
   "source": [
    "## Save cleaned data to new file ready for downloading"
   ]
  },
  {
   "cell_type": "code",
   "execution_count": 12,
   "id": "d383fb50",
   "metadata": {
    "execution": {
     "iopub.execute_input": "2024-02-16T05:18:47.835320Z",
     "iopub.status.busy": "2024-02-16T05:18:47.834941Z",
     "iopub.status.idle": "2024-02-16T05:18:47.857682Z",
     "shell.execute_reply": "2024-02-16T05:18:47.856541Z"
    },
    "papermill": {
     "duration": 0.044963,
     "end_time": "2024-02-16T05:18:47.860057",
     "exception": false,
     "start_time": "2024-02-16T05:18:47.815094",
     "status": "completed"
    },
    "tags": []
   },
   "outputs": [
    {
     "data": {
      "text/html": [
       "<div>\n",
       "<style scoped>\n",
       "    .dataframe tbody tr th:only-of-type {\n",
       "        vertical-align: middle;\n",
       "    }\n",
       "\n",
       "    .dataframe tbody tr th {\n",
       "        vertical-align: top;\n",
       "    }\n",
       "\n",
       "    .dataframe thead th {\n",
       "        text-align: right;\n",
       "    }\n",
       "</style>\n",
       "<table border=\"1\" class=\"dataframe\">\n",
       "  <thead>\n",
       "    <tr style=\"text-align: right;\">\n",
       "      <th></th>\n",
       "      <th>Unnamed: 0</th>\n",
       "      <th>Books</th>\n",
       "      <th>Authors</th>\n",
       "      <th>Language</th>\n",
       "      <th>published_during</th>\n",
       "      <th>Sales_in_millions</th>\n",
       "      <th>Language_encoded</th>\n",
       "      <th>year_published</th>\n",
       "      <th>Authors_encoded</th>\n",
       "    </tr>\n",
       "  </thead>\n",
       "  <tbody>\n",
       "    <tr>\n",
       "      <th>0</th>\n",
       "      <td>0</td>\n",
       "      <td>A Tale of Two Cities</td>\n",
       "      <td>Charles Dickens</td>\n",
       "      <td>English</td>\n",
       "      <td>1859</td>\n",
       "      <td>200.0</td>\n",
       "      <td>3</td>\n",
       "      <td>1859</td>\n",
       "      <td>36</td>\n",
       "    </tr>\n",
       "    <tr>\n",
       "      <th>1</th>\n",
       "      <td>1</td>\n",
       "      <td>The Little Prince (Le Petit Prince)</td>\n",
       "      <td>Antoine de Saint-Exupéry</td>\n",
       "      <td>French</td>\n",
       "      <td>1943</td>\n",
       "      <td>200.0</td>\n",
       "      <td>4</td>\n",
       "      <td>1943</td>\n",
       "      <td>16</td>\n",
       "    </tr>\n",
       "    <tr>\n",
       "      <th>2</th>\n",
       "      <td>2</td>\n",
       "      <td>Harry Potter and the Philosopher's Stone</td>\n",
       "      <td>J. K. Rowling</td>\n",
       "      <td>English</td>\n",
       "      <td>1997</td>\n",
       "      <td>120.0</td>\n",
       "      <td>3</td>\n",
       "      <td>1997</td>\n",
       "      <td>97</td>\n",
       "    </tr>\n",
       "    <tr>\n",
       "      <th>3</th>\n",
       "      <td>3</td>\n",
       "      <td>And Then There Were None</td>\n",
       "      <td>Agatha Christie</td>\n",
       "      <td>English</td>\n",
       "      <td>1939</td>\n",
       "      <td>100.0</td>\n",
       "      <td>3</td>\n",
       "      <td>1939</td>\n",
       "      <td>1</td>\n",
       "    </tr>\n",
       "    <tr>\n",
       "      <th>4</th>\n",
       "      <td>4</td>\n",
       "      <td>Dream of the Red Chamber (紅樓夢)</td>\n",
       "      <td>Cao Xueqin</td>\n",
       "      <td>Chinese</td>\n",
       "      <td>1791</td>\n",
       "      <td>100.0</td>\n",
       "      <td>0</td>\n",
       "      <td>1791</td>\n",
       "      <td>29</td>\n",
       "    </tr>\n",
       "    <tr>\n",
       "      <th>...</th>\n",
       "      <td>...</td>\n",
       "      <td>...</td>\n",
       "      <td>...</td>\n",
       "      <td>...</td>\n",
       "      <td>...</td>\n",
       "      <td>...</td>\n",
       "      <td>...</td>\n",
       "      <td>...</td>\n",
       "      <td>...</td>\n",
       "    </tr>\n",
       "    <tr>\n",
       "      <th>285</th>\n",
       "      <td>285</td>\n",
       "      <td>The No. 1 Ladies Detective Agency</td>\n",
       "      <td>Alexander McCall Smith</td>\n",
       "      <td>English</td>\n",
       "      <td>1999–present</td>\n",
       "      <td>15.0</td>\n",
       "      <td>3</td>\n",
       "      <td>1999</td>\n",
       "      <td>5</td>\n",
       "    </tr>\n",
       "    <tr>\n",
       "      <th>286</th>\n",
       "      <td>286</td>\n",
       "      <td>Der Regenbogenfisch (Rainbow Fish)</td>\n",
       "      <td>Marcus Pfister</td>\n",
       "      <td>German</td>\n",
       "      <td>1992–present</td>\n",
       "      <td>15.0</td>\n",
       "      <td>5</td>\n",
       "      <td>1992</td>\n",
       "      <td>150</td>\n",
       "    </tr>\n",
       "    <tr>\n",
       "      <th>287</th>\n",
       "      <td>287</td>\n",
       "      <td>The Riftwar Cycle</td>\n",
       "      <td>Raymond E. Feist</td>\n",
       "      <td>English</td>\n",
       "      <td>1982–present</td>\n",
       "      <td>15.0</td>\n",
       "      <td>3</td>\n",
       "      <td>1982</td>\n",
       "      <td>189</td>\n",
       "    </tr>\n",
       "    <tr>\n",
       "      <th>288</th>\n",
       "      <td>288</td>\n",
       "      <td>The Thrawn trilogy</td>\n",
       "      <td>Timothy Zahn</td>\n",
       "      <td>English</td>\n",
       "      <td>1991–93</td>\n",
       "      <td>15.0</td>\n",
       "      <td>3</td>\n",
       "      <td>1991</td>\n",
       "      <td>234</td>\n",
       "    </tr>\n",
       "    <tr>\n",
       "      <th>289</th>\n",
       "      <td>289</td>\n",
       "      <td>Wiedźmin (The Witcher)</td>\n",
       "      <td>Andrzej Sapkowski</td>\n",
       "      <td>Polish</td>\n",
       "      <td>1990–2013</td>\n",
       "      <td>15.0</td>\n",
       "      <td>10</td>\n",
       "      <td>1990</td>\n",
       "      <td>9</td>\n",
       "    </tr>\n",
       "  </tbody>\n",
       "</table>\n",
       "<p>290 rows × 9 columns</p>\n",
       "</div>"
      ],
      "text/plain": [
       "     Unnamed: 0                                     Books  \\\n",
       "0             0                      A Tale of Two Cities   \n",
       "1             1       The Little Prince (Le Petit Prince)   \n",
       "2             2  Harry Potter and the Philosopher's Stone   \n",
       "3             3                  And Then There Were None   \n",
       "4             4            Dream of the Red Chamber (紅樓夢)   \n",
       "..          ...                                       ...   \n",
       "285         285         The No. 1 Ladies Detective Agency   \n",
       "286         286        Der Regenbogenfisch (Rainbow Fish)   \n",
       "287         287                         The Riftwar Cycle   \n",
       "288         288                        The Thrawn trilogy   \n",
       "289         289                    Wiedźmin (The Witcher)   \n",
       "\n",
       "                      Authors Language published_during  Sales_in_millions  \\\n",
       "0             Charles Dickens  English             1859              200.0   \n",
       "1    Antoine de Saint-Exupéry   French             1943              200.0   \n",
       "2               J. K. Rowling  English             1997              120.0   \n",
       "3             Agatha Christie  English             1939              100.0   \n",
       "4                  Cao Xueqin  Chinese             1791              100.0   \n",
       "..                        ...      ...              ...                ...   \n",
       "285    Alexander McCall Smith  English     1999–present               15.0   \n",
       "286            Marcus Pfister   German     1992–present               15.0   \n",
       "287          Raymond E. Feist  English     1982–present               15.0   \n",
       "288              Timothy Zahn  English          1991–93               15.0   \n",
       "289         Andrzej Sapkowski   Polish        1990–2013               15.0   \n",
       "\n",
       "     Language_encoded  year_published  Authors_encoded  \n",
       "0                   3            1859               36  \n",
       "1                   4            1943               16  \n",
       "2                   3            1997               97  \n",
       "3                   3            1939                1  \n",
       "4                   0            1791               29  \n",
       "..                ...             ...              ...  \n",
       "285                 3            1999                5  \n",
       "286                 5            1992              150  \n",
       "287                 3            1982              189  \n",
       "288                 3            1991              234  \n",
       "289                10            1990                9  \n",
       "\n",
       "[290 rows x 9 columns]"
      ]
     },
     "execution_count": 12,
     "metadata": {},
     "output_type": "execute_result"
    }
   ],
   "source": [
    "df.to_csv('cleaned_bookbestsellers.csv', index=False)\n",
    "df"
   ]
  },
  {
   "cell_type": "code",
   "execution_count": 13,
   "id": "c0aae862",
   "metadata": {
    "execution": {
     "iopub.execute_input": "2024-02-16T05:18:47.899831Z",
     "iopub.status.busy": "2024-02-16T05:18:47.899432Z",
     "iopub.status.idle": "2024-02-16T05:18:47.928314Z",
     "shell.execute_reply": "2024-02-16T05:18:47.927171Z"
    },
    "papermill": {
     "duration": 0.051813,
     "end_time": "2024-02-16T05:18:47.930922",
     "exception": false,
     "start_time": "2024-02-16T05:18:47.879109",
     "status": "completed"
    },
    "tags": []
   },
   "outputs": [
    {
     "data": {
      "text/html": [
       "<div>\n",
       "<style scoped>\n",
       "    .dataframe tbody tr th:only-of-type {\n",
       "        vertical-align: middle;\n",
       "    }\n",
       "\n",
       "    .dataframe tbody tr th {\n",
       "        vertical-align: top;\n",
       "    }\n",
       "\n",
       "    .dataframe thead th {\n",
       "        text-align: right;\n",
       "    }\n",
       "</style>\n",
       "<table border=\"1\" class=\"dataframe\">\n",
       "  <thead>\n",
       "    <tr style=\"text-align: right;\">\n",
       "      <th></th>\n",
       "      <th>Unnamed: 0</th>\n",
       "      <th>Sales_in_millions</th>\n",
       "      <th>Language_encoded</th>\n",
       "      <th>year_published</th>\n",
       "      <th>Authors_encoded</th>\n",
       "    </tr>\n",
       "  </thead>\n",
       "  <tbody>\n",
       "    <tr>\n",
       "      <th>count</th>\n",
       "      <td>290.000000</td>\n",
       "      <td>288.000000</td>\n",
       "      <td>290.000000</td>\n",
       "      <td>290.000000</td>\n",
       "      <td>290.000000</td>\n",
       "    </tr>\n",
       "    <tr>\n",
       "      <th>mean</th>\n",
       "      <td>144.500000</td>\n",
       "      <td>49.996875</td>\n",
       "      <td>4.251724</td>\n",
       "      <td>1969.568966</td>\n",
       "      <td>129.272414</td>\n",
       "    </tr>\n",
       "    <tr>\n",
       "      <th>std</th>\n",
       "      <td>83.860002</td>\n",
       "      <td>64.684632</td>\n",
       "      <td>2.865270</td>\n",
       "      <td>52.497063</td>\n",
       "      <td>75.333985</td>\n",
       "    </tr>\n",
       "    <tr>\n",
       "      <th>min</th>\n",
       "      <td>0.000000</td>\n",
       "      <td>10.000000</td>\n",
       "      <td>0.000000</td>\n",
       "      <td>1304.000000</td>\n",
       "      <td>0.000000</td>\n",
       "    </tr>\n",
       "    <tr>\n",
       "      <th>25%</th>\n",
       "      <td>72.250000</td>\n",
       "      <td>16.000000</td>\n",
       "      <td>3.000000</td>\n",
       "      <td>1955.000000</td>\n",
       "      <td>64.250000</td>\n",
       "    </tr>\n",
       "    <tr>\n",
       "      <th>50%</th>\n",
       "      <td>144.500000</td>\n",
       "      <td>25.000000</td>\n",
       "      <td>3.000000</td>\n",
       "      <td>1979.000000</td>\n",
       "      <td>127.500000</td>\n",
       "    </tr>\n",
       "    <tr>\n",
       "      <th>75%</th>\n",
       "      <td>216.750000</td>\n",
       "      <td>50.000000</td>\n",
       "      <td>3.000000</td>\n",
       "      <td>1996.750000</td>\n",
       "      <td>196.750000</td>\n",
       "    </tr>\n",
       "    <tr>\n",
       "      <th>max</th>\n",
       "      <td>289.000000</td>\n",
       "      <td>600.000000</td>\n",
       "      <td>15.000000</td>\n",
       "      <td>2018.000000</td>\n",
       "      <td>257.000000</td>\n",
       "    </tr>\n",
       "  </tbody>\n",
       "</table>\n",
       "</div>"
      ],
      "text/plain": [
       "       Unnamed: 0  Sales_in_millions  Language_encoded  year_published  \\\n",
       "count  290.000000         288.000000        290.000000      290.000000   \n",
       "mean   144.500000          49.996875          4.251724     1969.568966   \n",
       "std     83.860002          64.684632          2.865270       52.497063   \n",
       "min      0.000000          10.000000          0.000000     1304.000000   \n",
       "25%     72.250000          16.000000          3.000000     1955.000000   \n",
       "50%    144.500000          25.000000          3.000000     1979.000000   \n",
       "75%    216.750000          50.000000          3.000000     1996.750000   \n",
       "max    289.000000         600.000000         15.000000     2018.000000   \n",
       "\n",
       "       Authors_encoded  \n",
       "count       290.000000  \n",
       "mean        129.272414  \n",
       "std          75.333985  \n",
       "min           0.000000  \n",
       "25%          64.250000  \n",
       "50%         127.500000  \n",
       "75%         196.750000  \n",
       "max         257.000000  "
      ]
     },
     "execution_count": 13,
     "metadata": {},
     "output_type": "execute_result"
    }
   ],
   "source": [
    "df.describe()"
   ]
  },
  {
   "cell_type": "markdown",
   "id": "af6a5a12",
   "metadata": {
    "execution": {
     "iopub.execute_input": "2024-02-16T03:41:50.031030Z",
     "iopub.status.busy": "2024-02-16T03:41:50.030614Z",
     "iopub.status.idle": "2024-02-16T03:41:50.400382Z",
     "shell.execute_reply": "2024-02-16T03:41:50.399023Z",
     "shell.execute_reply.started": "2024-02-16T03:41:50.031000Z"
    },
    "papermill": {
     "duration": 0.019861,
     "end_time": "2024-02-16T05:18:47.970358",
     "exception": false,
     "start_time": "2024-02-16T05:18:47.950497",
     "status": "completed"
    },
    "tags": []
   },
   "source": [
    "# Correlation Matrix"
   ]
  },
  {
   "cell_type": "code",
   "execution_count": 14,
   "id": "b64dc0d4",
   "metadata": {
    "execution": {
     "iopub.execute_input": "2024-02-16T05:18:48.013123Z",
     "iopub.status.busy": "2024-02-16T05:18:48.012315Z",
     "iopub.status.idle": "2024-02-16T05:18:48.379253Z",
     "shell.execute_reply": "2024-02-16T05:18:48.378116Z"
    },
    "papermill": {
     "duration": 0.391754,
     "end_time": "2024-02-16T05:18:48.381987",
     "exception": false,
     "start_time": "2024-02-16T05:18:47.990233",
     "status": "completed"
    },
    "tags": []
   },
   "outputs": [
    {
     "name": "stdout",
     "output_type": "stream",
     "text": [
      "                   Sales_in_millions  year_published  Language_encoded  \\\n",
      "Sales_in_millions           1.000000       -0.013364         -0.116593   \n",
      "year_published             -0.013364        1.000000         -0.045031   \n",
      "Language_encoded           -0.116593       -0.045031          1.000000   \n",
      "Authors_encoded            -0.060263        0.154505          0.026083   \n",
      "\n",
      "                   Authors_encoded  \n",
      "Sales_in_millions        -0.060263  \n",
      "year_published            0.154505  \n",
      "Language_encoded          0.026083  \n",
      "Authors_encoded           1.000000  \n"
     ]
    },
    {
     "data": {
      "image/png": "[encoded data removed]",
      "text/plain": [
       "<Figure size 1000x800 with 2 Axes>"
      ]
     },
     "metadata": {},
     "output_type": "display_data"
    }
   ],
   "source": [
    "# Select only relevant columns for correlation analysis\n",
    "selected_columns = ['Sales_in_millions', 'year_published', 'Language_encoded', 'Authors_encoded']\n",
    "\n",
    "# Create a new DataFrame with only the selected columns\n",
    "df_selected = df[selected_columns]\n",
    "\n",
    "# Compute the correlation matrix\n",
    "correlation_matrix = df_selected.corr()\n",
    "\n",
    "# Display the correlation matrix\n",
    "print(correlation_matrix)\n",
    "\n",
    "# Create a heatmap of the correlation matrix\n",
    "plt.figure(figsize=(10, 8))\n",
    "sns.heatmap(correlation_matrix, annot=True, cmap='coolwarm', fmt='.2f', linewidths=.5)\n",
    "plt.title('Correlation Matrix')\n",
    "plt.show()"
   ]
  },
  {
   "cell_type": "markdown",
   "id": "26d5d1ca",
   "metadata": {
    "papermill": {
     "duration": 0.019682,
     "end_time": "2024-02-16T05:18:48.421751",
     "exception": false,
     "start_time": "2024-02-16T05:18:48.402069",
     "status": "completed"
    },
    "tags": []
   },
   "source": [
    "# Data Analysis"
   ]
  },
  {
   "cell_type": "markdown",
   "id": "cdba4647",
   "metadata": {
    "execution": {
     "iopub.execute_input": "2024-02-16T03:24:23.728095Z",
     "iopub.status.busy": "2024-02-16T03:24:23.727734Z",
     "iopub.status.idle": "2024-02-16T03:24:23.741672Z",
     "shell.execute_reply": "2024-02-16T03:24:23.740171Z",
     "shell.execute_reply.started": "2024-02-16T03:24:23.728066Z"
    },
    "papermill": {
     "duration": 0.020181,
     "end_time": "2024-02-16T05:18:48.461933",
     "exception": false,
     "start_time": "2024-02-16T05:18:48.441752",
     "status": "completed"
    },
    "tags": []
   },
   "source": [
    "## Authors with most books published"
   ]
  },
  {
   "cell_type": "code",
   "execution_count": 15,
   "id": "0c55a965",
   "metadata": {
    "execution": {
     "iopub.execute_input": "2024-02-16T05:18:48.504302Z",
     "iopub.status.busy": "2024-02-16T05:18:48.503663Z",
     "iopub.status.idle": "2024-02-16T05:18:48.512390Z",
     "shell.execute_reply": "2024-02-16T05:18:48.511236Z"
    },
    "papermill": {
     "duration": 0.03257,
     "end_time": "2024-02-16T05:18:48.514675",
     "exception": false,
     "start_time": "2024-02-16T05:18:48.482105",
     "status": "completed"
    },
    "tags": []
   },
   "outputs": [
    {
     "name": "stdout",
     "output_type": "stream",
     "text": [
      "Authors\n",
      "J. K. Rowling      8\n",
      "Various authors    8\n",
      "Dan Brown          4\n",
      "Roald Dahl         3\n",
      "E. L. James        3\n",
      "Suzanne Collins    3\n",
      "Ken Follett        2\n",
      "Astrid Lindgren    2\n",
      "R. L. Stine        2\n",
      "Helen Fielding     2\n",
      "Name: Books, dtype: int64\n"
     ]
    }
   ],
   "source": [
    "top_authors = df.groupby('Authors')['Books'].nunique().sort_values(ascending=False).head(10)\n",
    "print(top_authors)"
   ]
  },
  {
   "cell_type": "code",
   "execution_count": 16,
   "id": "d27a28f0",
   "metadata": {
    "execution": {
     "iopub.execute_input": "2024-02-16T05:18:48.557436Z",
     "iopub.status.busy": "2024-02-16T05:18:48.556715Z",
     "iopub.status.idle": "2024-02-16T05:18:48.849083Z",
     "shell.execute_reply": "2024-02-16T05:18:48.847970Z"
    },
    "papermill": {
     "duration": 0.316889,
     "end_time": "2024-02-16T05:18:48.851736",
     "exception": false,
     "start_time": "2024-02-16T05:18:48.534847",
     "status": "completed"
    },
    "tags": []
   },
   "outputs": [
    {
     "data": {
      "image/png": "[encoded data removed]",
      "text/plain": [
       "<Figure size 1000x600 with 1 Axes>"
      ]
     },
     "metadata": {},
     "output_type": "display_data"
    }
   ],
   "source": [
    "plt.figure(figsize=(10,6))\n",
    "sns.barplot(y=top_authors.index, x=top_authors, palette='pastel')\n",
    "plt.title('Top 10 Authors with Most Books Published')\n",
    "plt.xlabel('Authors')\n",
    "plt.ylabel('Number of Unique Books')\n",
    "plt.show()\n"
   ]
  },
  {
   "cell_type": "markdown",
   "id": "f0c5e911",
   "metadata": {
    "execution": {
     "iopub.execute_input": "2024-02-16T03:55:13.318053Z",
     "iopub.status.busy": "2024-02-16T03:55:13.317433Z",
     "iopub.status.idle": "2024-02-16T03:55:13.824723Z",
     "shell.execute_reply": "2024-02-16T03:55:13.823277Z",
     "shell.execute_reply.started": "2024-02-16T03:55:13.318019Z"
    },
    "papermill": {
     "duration": 0.020402,
     "end_time": "2024-02-16T05:18:48.892926",
     "exception": false,
     "start_time": "2024-02-16T05:18:48.872524",
     "status": "completed"
    },
    "tags": []
   },
   "source": [
    "## Top Selling Books of All-time"
   ]
  },
  {
   "cell_type": "code",
   "execution_count": 17,
   "id": "172f5ebb",
   "metadata": {
    "execution": {
     "iopub.execute_input": "2024-02-16T05:18:48.937291Z",
     "iopub.status.busy": "2024-02-16T05:18:48.936655Z",
     "iopub.status.idle": "2024-02-16T05:18:49.436999Z",
     "shell.execute_reply": "2024-02-16T05:18:49.435561Z"
    },
    "papermill": {
     "duration": 0.526577,
     "end_time": "2024-02-16T05:18:49.440342",
     "exception": false,
     "start_time": "2024-02-16T05:18:48.913765",
     "status": "completed"
    },
    "tags": []
   },
   "outputs": [
    {
     "data": {
      "image/png": "[encoded data removed]",
      "text/plain": [
       "<Figure size 1200x800 with 1 Axes>"
      ]
     },
     "metadata": {},
     "output_type": "display_data"
    }
   ],
   "source": [
    "top_selling_books = df.sort_values(by='Sales_in_millions', ascending=False).head(25)\n",
    "\n",
    "plt.figure(figsize=(12, 8))\n",
    "sns.barplot(x='Sales_in_millions', y='Books', data=top_selling_books, palette='viridis')\n",
    "plt.title('Top 25 Selling Books')\n",
    "plt.xlabel('Sales in Millions')\n",
    "plt.ylabel('Books')\n",
    "plt.show()"
   ]
  },
  {
   "cell_type": "markdown",
   "id": "77b8c0ba",
   "metadata": {
    "execution": {
     "iopub.execute_input": "2024-02-16T04:00:46.324319Z",
     "iopub.status.busy": "2024-02-16T04:00:46.323843Z",
     "iopub.status.idle": "2024-02-16T04:00:47.545138Z",
     "shell.execute_reply": "2024-02-16T04:00:47.543469Z",
     "shell.execute_reply.started": "2024-02-16T04:00:46.324286Z"
    },
    "papermill": {
     "duration": 0.022095,
     "end_time": "2024-02-16T05:18:49.494686",
     "exception": false,
     "start_time": "2024-02-16T05:18:49.472591",
     "status": "completed"
    },
    "tags": []
   },
   "source": [
    "## Distribution of Publication years"
   ]
  },
  {
   "cell_type": "code",
   "execution_count": 18,
   "id": "9c2e5109",
   "metadata": {
    "execution": {
     "iopub.execute_input": "2024-02-16T05:18:49.541769Z",
     "iopub.status.busy": "2024-02-16T05:18:49.541363Z",
     "iopub.status.idle": "2024-02-16T05:18:49.810763Z",
     "shell.execute_reply": "2024-02-16T05:18:49.809611Z"
    },
    "papermill": {
     "duration": 0.296149,
     "end_time": "2024-02-16T05:18:49.813361",
     "exception": false,
     "start_time": "2024-02-16T05:18:49.517212",
     "status": "completed"
    },
    "tags": []
   },
   "outputs": [
    {
     "data": {
      "image/png": "[encoded data removed]",
      "text/plain": [
       "<Figure size 1200x600 with 1 Axes>"
      ]
     },
     "metadata": {},
     "output_type": "display_data"
    }
   ],
   "source": [
    "# Filter out data before 1750\n",
    "filtered_df = df[df['year_published'] >= 1750]\n",
    "\n",
    "# Create bins for intervals of 10 years\n",
    "bins = range(min(filtered_df['year_published']), max(filtered_df['year_published']) + 11, 10)\n",
    "\n",
    "plt.figure(figsize=(12, 6))\n",
    "plt.hist(filtered_df['year_published'], bins=bins, color='skyblue', edgecolor='black')\n",
    "plt.title('Histogram of Publication Years (1750 - Present)')\n",
    "plt.xlabel('Publication Year')\n",
    "plt.ylabel('Number of Books')\n",
    "plt.show()"
   ]
  },
  {
   "cell_type": "markdown",
   "id": "30e48400",
   "metadata": {
    "papermill": {
     "duration": 0.022617,
     "end_time": "2024-02-16T05:18:49.859201",
     "exception": false,
     "start_time": "2024-02-16T05:18:49.836584",
     "status": "completed"
    },
    "tags": []
   },
   "source": [
    "### Top 25 Authors by Total Sales"
   ]
  },
  {
   "cell_type": "code",
   "execution_count": 19,
   "id": "da8c38ae",
   "metadata": {
    "execution": {
     "iopub.execute_input": "2024-02-16T05:18:49.907828Z",
     "iopub.status.busy": "2024-02-16T05:18:49.907380Z",
     "iopub.status.idle": "2024-02-16T05:18:52.135752Z",
     "shell.execute_reply": "2024-02-16T05:18:52.134642Z"
    },
    "papermill": {
     "duration": 2.255944,
     "end_time": "2024-02-16T05:18:52.138345",
     "exception": false,
     "start_time": "2024-02-16T05:18:49.882401",
     "status": "completed"
    },
    "tags": []
   },
   "outputs": [
    {
     "data": {
      "text/html": [
       "        <script type=\"text/javascript\">\n",
       "        window.PlotlyConfig = {MathJaxConfig: 'local'};\n",
       "        if (window.MathJax && window.MathJax.Hub && window.MathJax.Hub.Config) {window.MathJax.Hub.Config({SVG: {font: \"STIX-Web\"}});}\n",
       "        if (typeof require !== 'undefined') {\n",
       "        require.undef(\"plotly\");\n",
       "        requirejs.config({\n",
       "            paths: {\n",
       "                'plotly': ['https://cdn.plot.ly/plotly-2.27.0.min']\n",
       "            }\n",
       "        });\n",
       "        require(['plotly'], function(Plotly) {\n",
       "            window._Plotly = Plotly;\n",
       "        });\n",
       "        }\n",
       "        </script>\n",
       "        "
      ]
     },
     "metadata": {},
     "output_type": "display_data"
    },
    {
     "data": {
      "text/html": [
       "<div>                            <div id=\"00707243-8e72-4ad0-8c1b-4038bff60421\" class=\"plotly-graph-div\" style=\"height:525px; width:100%;\"></div>            <script type=\"text/javascript\">                require([\"plotly\"], function(Plotly) {                    window.PLOTLYENV=window.PLOTLYENV || {};                                    if (document.getElementById(\"00707243-8e72-4ad0-8c1b-4038bff60421\")) {                    Plotly.newPlot(                        \"00707243-8e72-4ad0-8c1b-4038bff60421\",                        [{\"alignmentgroup\":\"True\",\"hovertemplate\":\"Authors=%{x}\\u003cbr\\u003eTotal Sales (in millions)=%{y}\\u003cextra\\u003e\\u003c\\u002fextra\\u003e\",\"legendgroup\":\"\",\"marker\":{\"color\":\"#636efa\",\"pattern\":{\"shape\":\"\"}},\"name\":\"\",\"offsetgroup\":\"\",\"orientation\":\"v\",\"showlegend\":false,\"textposition\":\"auto\",\"x\":[\"J. K. Rowling\",\"Various authors\",\"R. L. Stine\",\"Dan Brown\",\"Erle Stanley Gardner\",\"Jeff Kinney\",\"Stan and Jan Berenstain\",\"Francine Pascal and ghostwriters\",\"Rev. W. Awdry, Christopher Awdry\",\"Enid Blyton\",\"Antoine de Saint-Exupéry\",\"Frédéric Dard\",\"Various authors as Carolyn Keene\",\"Charles Dickens\",\"Beatrix Potter\",\"Rick Riordan\",\"Elisabetta Dami\",\"E. L. James\",\"Ann Martin\",\"Suzanne Collins\",\"Stephenie Meyer\",\"Mercer Mayer\",\"Jack Canfield, Mark Victor Hansen\",\"Norman Bridwell\",\"Gilbert Patten\"],\"xaxis\":\"x\",\"y\":[1122.0,677.7,480.0,349.0,300.0,275.0,260.0,250.0,201.0,200.0,200.0,200.0,200.0,200.0,195.0,180.0,180.0,175.6,172.0,170.0,160.0,150.0,130.0,129.0,125.0],\"yaxis\":\"y\",\"type\":\"bar\"}],                        {\"template\":{\"data\":{\"histogram2dcontour\":[{\"type\":\"histogram2dcontour\",\"colorbar\":{\"outlinewidth\":0,\"ticks\":\"\"},\"colorscale\":[[0.0,\"#0d0887\"],[0.1111111111111111,\"#46039f\"],[0.2222222222222222,\"#7201a8\"],[0.3333333333333333,\"#9c179e\"],[0.4444444444444444,\"#bd3786\"],[0.5555555555555556,\"#d8576b\"],[0.6666666666666666,\"#ed7953\"],[0.7777777777777778,\"#fb9f3a\"],[0.8888888888888888,\"#fdca26\"],[1.0,\"#f0f921\"]]}],\"choropleth\":[{\"type\":\"choropleth\",\"colorbar\":{\"outlinewidth\":0,\"ticks\":\"\"}}],\"histogram2d\":[{\"type\":\"histogram2d\",\"colorbar\":{\"outlinewidth\":0,\"ticks\":\"\"},\"colorscale\":[[0.0,\"#0d0887\"],[0.1111111111111111,\"#46039f\"],[0.2222222222222222,\"#7201a8\"],[0.3333333333333333,\"#9c179e\"],[0.4444444444444444,\"#bd3786\"],[0.5555555555555556,\"#d8576b\"],[0.6666666666666666,\"#ed7953\"],[0.7777777777777778,\"#fb9f3a\"],[0.8888888888888888,\"#fdca26\"],[1.0,\"#f0f921\"]]}],\"heatmap\":[{\"type\":\"heatmap\",\"colorbar\":{\"outlinewidth\":0,\"ticks\":\"\"},\"colorscale\":[[0.0,\"#0d0887\"],[0.1111111111111111,\"#46039f\"],[0.2222222222222222,\"#7201a8\"],[0.3333333333333333,\"#9c179e\"],[0.4444444444444444,\"#bd3786\"],[0.5555555555555556,\"#d8576b\"],[0.6666666666666666,\"#ed7953\"],[0.7777777777777778,\"#fb9f3a\"],[0.8888888888888888,\"#fdca26\"],[1.0,\"#f0f921\"]]}],\"heatmapgl\":[{\"type\":\"heatmapgl\",\"colorbar\":{\"outlinewidth\":0,\"ticks\":\"\"},\"colorscale\":[[0.0,\"#0d0887\"],[0.1111111111111111,\"#46039f\"],[0.2222222222222222,\"#7201a8\"],[0.3333333333333333,\"#9c179e\"],[0.4444444444444444,\"#bd3786\"],[0.5555555555555556,\"#d8576b\"],[0.6666666666666666,\"#ed7953\"],[0.7777777777777778,\"#fb9f3a\"],[0.8888888888888888,\"#fdca26\"],[1.0,\"#f0f921\"]]}],\"contourcarpet\":[{\"type\":\"contourcarpet\",\"colorbar\":{\"outlinewidth\":0,\"ticks\":\"\"}}],\"contour\":[{\"type\":\"contour\",\"colorbar\":{\"outlinewidth\":0,\"ticks\":\"\"},\"colorscale\":[[0.0,\"#0d0887\"],[0.1111111111111111,\"#46039f\"],[0.2222222222222222,\"#7201a8\"],[0.3333333333333333,\"#9c179e\"],[0.4444444444444444,\"#bd3786\"],[0.5555555555555556,\"#d8576b\"],[0.6666666666666666,\"#ed7953\"],[0.7777777777777778,\"#fb9f3a\"],[0.8888888888888888,\"#fdca26\"],[1.0,\"#f0f921\"]]}],\"surface\":[{\"type\":\"surface\",\"colorbar\":{\"outlinewidth\":0,\"ticks\":\"\"},\"colorscale\":[[0.0,\"#0d0887\"],[0.1111111111111111,\"#46039f\"],[0.2222222222222222,\"#7201a8\"],[0.3333333333333333,\"#9c179e\"],[0.4444444444444444,\"#bd3786\"],[0.5555555555555556,\"#d8576b\"],[0.6666666666666666,\"#ed7953\"],[0.7777777777777778,\"#fb9f3a\"],[0.8888888888888888,\"#fdca26\"],[1.0,\"#f0f921\"]]}],\"mesh3d\":[{\"type\":\"mesh3d\",\"colorbar\":{\"outlinewidth\":0,\"ticks\":\"\"}}],\"scatter\":[{\"fillpattern\":{\"fillmode\":\"overlay\",\"size\":10,\"solidity\":0.2},\"type\":\"scatter\"}],\"parcoords\":[{\"type\":\"parcoords\",\"line\":{\"colorbar\":{\"outlinewidth\":0,\"ticks\":\"\"}}}],\"scatterpolargl\":[{\"type\":\"scatterpolargl\",\"marker\":{\"colorbar\":{\"outlinewidth\":0,\"ticks\":\"\"}}}],\"bar\":[{\"error_x\":{\"color\":\"#2a3f5f\"},\"error_y\":{\"color\":\"#2a3f5f\"},\"marker\":{\"line\":{\"color\":\"#E5ECF6\",\"width\":0.5},\"pattern\":{\"fillmode\":\"overlay\",\"size\":10,\"solidity\":0.2}},\"type\":\"bar\"}],\"scattergeo\":[{\"type\":\"scattergeo\",\"marker\":{\"colorbar\":{\"outlinewidth\":0,\"ticks\":\"\"}}}],\"scatterpolar\":[{\"type\":\"scatterpolar\",\"marker\":{\"colorbar\":{\"outlinewidth\":0,\"ticks\":\"\"}}}],\"histogram\":[{\"marker\":{\"pattern\":{\"fillmode\":\"overlay\",\"size\":10,\"solidity\":0.2}},\"type\":\"histogram\"}],\"scattergl\":[{\"type\":\"scattergl\",\"marker\":{\"colorbar\":{\"outlinewidth\":0,\"ticks\":\"\"}}}],\"scatter3d\":[{\"type\":\"scatter3d\",\"line\":{\"colorbar\":{\"outlinewidth\":0,\"ticks\":\"\"}},\"marker\":{\"colorbar\":{\"outlinewidth\":0,\"ticks\":\"\"}}}],\"scattermapbox\":[{\"type\":\"scattermapbox\",\"marker\":{\"colorbar\":{\"outlinewidth\":0,\"ticks\":\"\"}}}],\"scatterternary\":[{\"type\":\"scatterternary\",\"marker\":{\"colorbar\":{\"outlinewidth\":0,\"ticks\":\"\"}}}],\"scattercarpet\":[{\"type\":\"scattercarpet\",\"marker\":{\"colorbar\":{\"outlinewidth\":0,\"ticks\":\"\"}}}],\"carpet\":[{\"aaxis\":{\"endlinecolor\":\"#2a3f5f\",\"gridcolor\":\"white\",\"linecolor\":\"white\",\"minorgridcolor\":\"white\",\"startlinecolor\":\"#2a3f5f\"},\"baxis\":{\"endlinecolor\":\"#2a3f5f\",\"gridcolor\":\"white\",\"linecolor\":\"white\",\"minorgridcolor\":\"white\",\"startlinecolor\":\"#2a3f5f\"},\"type\":\"carpet\"}],\"table\":[{\"cells\":{\"fill\":{\"color\":\"#EBF0F8\"},\"line\":{\"color\":\"white\"}},\"header\":{\"fill\":{\"color\":\"#C8D4E3\"},\"line\":{\"color\":\"white\"}},\"type\":\"table\"}],\"barpolar\":[{\"marker\":{\"line\":{\"color\":\"#E5ECF6\",\"width\":0.5},\"pattern\":{\"fillmode\":\"overlay\",\"size\":10,\"solidity\":0.2}},\"type\":\"barpolar\"}],\"pie\":[{\"automargin\":true,\"type\":\"pie\"}]},\"layout\":{\"autotypenumbers\":\"strict\",\"colorway\":[\"#636efa\",\"#EF553B\",\"#00cc96\",\"#ab63fa\",\"#FFA15A\",\"#19d3f3\",\"#FF6692\",\"#B6E880\",\"#FF97FF\",\"#FECB52\"],\"font\":{\"color\":\"#2a3f5f\"},\"hovermode\":\"closest\",\"hoverlabel\":{\"align\":\"left\"},\"paper_bgcolor\":\"white\",\"plot_bgcolor\":\"#E5ECF6\",\"polar\":{\"bgcolor\":\"#E5ECF6\",\"angularaxis\":{\"gridcolor\":\"white\",\"linecolor\":\"white\",\"ticks\":\"\"},\"radialaxis\":{\"gridcolor\":\"white\",\"linecolor\":\"white\",\"ticks\":\"\"}},\"ternary\":{\"bgcolor\":\"#E5ECF6\",\"aaxis\":{\"gridcolor\":\"white\",\"linecolor\":\"white\",\"ticks\":\"\"},\"baxis\":{\"gridcolor\":\"white\",\"linecolor\":\"white\",\"ticks\":\"\"},\"caxis\":{\"gridcolor\":\"white\",\"linecolor\":\"white\",\"ticks\":\"\"}},\"coloraxis\":{\"colorbar\":{\"outlinewidth\":0,\"ticks\":\"\"}},\"colorscale\":{\"sequential\":[[0.0,\"#0d0887\"],[0.1111111111111111,\"#46039f\"],[0.2222222222222222,\"#7201a8\"],[0.3333333333333333,\"#9c179e\"],[0.4444444444444444,\"#bd3786\"],[0.5555555555555556,\"#d8576b\"],[0.6666666666666666,\"#ed7953\"],[0.7777777777777778,\"#fb9f3a\"],[0.8888888888888888,\"#fdca26\"],[1.0,\"#f0f921\"]],\"sequentialminus\":[[0.0,\"#0d0887\"],[0.1111111111111111,\"#46039f\"],[0.2222222222222222,\"#7201a8\"],[0.3333333333333333,\"#9c179e\"],[0.4444444444444444,\"#bd3786\"],[0.5555555555555556,\"#d8576b\"],[0.6666666666666666,\"#ed7953\"],[0.7777777777777778,\"#fb9f3a\"],[0.8888888888888888,\"#fdca26\"],[1.0,\"#f0f921\"]],\"diverging\":[[0,\"#8e0152\"],[0.1,\"#c51b7d\"],[0.2,\"#de77ae\"],[0.3,\"#f1b6da\"],[0.4,\"#fde0ef\"],[0.5,\"#f7f7f7\"],[0.6,\"#e6f5d0\"],[0.7,\"#b8e186\"],[0.8,\"#7fbc41\"],[0.9,\"#4d9221\"],[1,\"#276419\"]]},\"xaxis\":{\"gridcolor\":\"white\",\"linecolor\":\"white\",\"ticks\":\"\",\"title\":{\"standoff\":15},\"zerolinecolor\":\"white\",\"automargin\":true,\"zerolinewidth\":2},\"yaxis\":{\"gridcolor\":\"white\",\"linecolor\":\"white\",\"ticks\":\"\",\"title\":{\"standoff\":15},\"zerolinecolor\":\"white\",\"automargin\":true,\"zerolinewidth\":2},\"scene\":{\"xaxis\":{\"backgroundcolor\":\"#E5ECF6\",\"gridcolor\":\"white\",\"linecolor\":\"white\",\"showbackground\":true,\"ticks\":\"\",\"zerolinecolor\":\"white\",\"gridwidth\":2},\"yaxis\":{\"backgroundcolor\":\"#E5ECF6\",\"gridcolor\":\"white\",\"linecolor\":\"white\",\"showbackground\":true,\"ticks\":\"\",\"zerolinecolor\":\"white\",\"gridwidth\":2},\"zaxis\":{\"backgroundcolor\":\"#E5ECF6\",\"gridcolor\":\"white\",\"linecolor\":\"white\",\"showbackground\":true,\"ticks\":\"\",\"zerolinecolor\":\"white\",\"gridwidth\":2}},\"shapedefaults\":{\"line\":{\"color\":\"#2a3f5f\"}},\"annotationdefaults\":{\"arrowcolor\":\"#2a3f5f\",\"arrowhead\":0,\"arrowwidth\":1},\"geo\":{\"bgcolor\":\"white\",\"landcolor\":\"#E5ECF6\",\"subunitcolor\":\"white\",\"showland\":true,\"showlakes\":true,\"lakecolor\":\"white\"},\"title\":{\"x\":0.05},\"mapbox\":{\"style\":\"light\"}}},\"xaxis\":{\"anchor\":\"y\",\"domain\":[0.0,1.0],\"title\":{\"text\":\"Authors\"},\"tickangle\":-45},\"yaxis\":{\"anchor\":\"x\",\"domain\":[0.0,1.0],\"title\":{\"text\":\"Total Sales (in millions)\"}},\"legend\":{\"tracegroupgap\":0},\"title\":{\"text\":\"Top 25 Authors by Total Sales\"},\"barmode\":\"relative\"},                        {\"responsive\": true}                    ).then(function(){\n",
       "                            \n",
       "var gd = document.getElementById('00707243-8e72-4ad0-8c1b-4038bff60421');\n",
       "var x = new MutationObserver(function (mutations, observer) {{\n",
       "        var display = window.getComputedStyle(gd).display;\n",
       "        if (!display || display === 'none') {{\n",
       "            console.log([gd, 'removed!']);\n",
       "            Plotly.purge(gd);\n",
       "            observer.disconnect();\n",
       "        }}\n",
       "}});\n",
       "\n",
       "// Listen for the removal of the full notebook cells\n",
       "var notebookContainer = gd.closest('#notebook-container');\n",
       "if (notebookContainer) {{\n",
       "    x.observe(notebookContainer, {childList: true});\n",
       "}}\n",
       "\n",
       "// Listen for the clearing of the current output cell\n",
       "var outputEl = gd.closest('.output');\n",
       "if (outputEl) {{\n",
       "    x.observe(outputEl, {childList: true});\n",
       "}}\n",
       "\n",
       "                        })                };                });            </script>        </div>"
      ]
     },
     "metadata": {},
     "output_type": "display_data"
    }
   ],
   "source": [
    "# Group by authors and sum the sales\n",
    "sales_by_author = df.groupby('Authors')['Sales_in_millions'].sum().reset_index()\n",
    "\n",
    "# Sort the data by total sales in descending order\n",
    "sales_by_author = sales_by_author.sort_values(by='Sales_in_millions', ascending=False)\n",
    "\n",
    "# Select the top 25 authors\n",
    "top_25_authors = sales_by_author.head(25)\n",
    "\n",
    "# Create a bar chart\n",
    "fig = px.bar(top_25_authors, x='Authors', y='Sales_in_millions', labels={'Sales_in_millions': 'Total Sales (in millions)'}, title='Top 25 Authors by Total Sales')\n",
    "\n",
    "# Update layout for better readability\n",
    "fig.update_layout(xaxis_title='Authors', yaxis_title='Total Sales (in millions)', xaxis_tickangle=-45)\n",
    "\n",
    "# Show the plot\n",
    "fig.show()\n"
   ]
  },
  {
   "cell_type": "markdown",
   "id": "c48a5145",
   "metadata": {
    "execution": {
     "iopub.execute_input": "2024-02-16T04:28:17.077419Z",
     "iopub.status.busy": "2024-02-16T04:28:17.076984Z",
     "iopub.status.idle": "2024-02-16T04:28:17.082726Z",
     "shell.execute_reply": "2024-02-16T04:28:17.081535Z",
     "shell.execute_reply.started": "2024-02-16T04:28:17.077388Z"
    },
    "papermill": {
     "duration": 0.022841,
     "end_time": "2024-02-16T05:18:52.186380",
     "exception": false,
     "start_time": "2024-02-16T05:18:52.163539",
     "status": "completed"
    },
    "tags": []
   },
   "source": [
    "## How many books were published in a certain year"
   ]
  },
  {
   "cell_type": "code",
   "execution_count": 20,
   "id": "1b16a91d",
   "metadata": {
    "execution": {
     "iopub.execute_input": "2024-02-16T05:18:52.234708Z",
     "iopub.status.busy": "2024-02-16T05:18:52.234278Z",
     "iopub.status.idle": "2024-02-16T05:18:52.245762Z",
     "shell.execute_reply": "2024-02-16T05:18:52.244459Z"
    },
    "papermill": {
     "duration": 0.03848,
     "end_time": "2024-02-16T05:18:52.248145",
     "exception": false,
     "start_time": "2024-02-16T05:18:52.209665",
     "status": "completed"
    },
    "tags": []
   },
   "outputs": [
    {
     "name": "stdout",
     "output_type": "stream",
     "text": [
      "The number of books published in 2023 is: 60\n"
     ]
    }
   ],
   "source": [
    "# Assuming df is your DataFrame with 'published_during' and 'Books' columns\n",
    "\n",
    "# Apply a lambda function to create a new column 'published_in_2023'\n",
    "df['published_in_2023'] = df['published_during'].apply(lambda x: pd.isna(x) or \"present\" in str(x).lower() or (\"-\" in str(x) and 2023 in map(int, str(x).split(\"-\"))) or (str(x).isdigit() and int(x) == 2023))\n",
    "\n",
    "# Filter the DataFrame for books published in 2023\n",
    "books_published_2023 = df[df['published_in_2023']]\n",
    "\n",
    "# Count the number of books published in 2023\n",
    "num_books_published_2023 = len(books_published_2023)\n",
    "\n",
    "# Display the result\n",
    "print(f\"The number of books published in 2023 is: {num_books_published_2023}\")"
   ]
  },
  {
   "cell_type": "markdown",
   "id": "b6956713",
   "metadata": {
    "papermill": {
     "duration": 0.023859,
     "end_time": "2024-02-16T05:18:52.297043",
     "exception": false,
     "start_time": "2024-02-16T05:18:52.273184",
     "status": "completed"
    },
    "tags": []
   },
   "source": [
    "## Distribution of Sales"
   ]
  },
  {
   "cell_type": "code",
   "execution_count": 21,
   "id": "b7af0d0d",
   "metadata": {
    "execution": {
     "iopub.execute_input": "2024-02-16T05:18:52.346340Z",
     "iopub.status.busy": "2024-02-16T05:18:52.345949Z",
     "iopub.status.idle": "2024-02-16T05:18:52.754489Z",
     "shell.execute_reply": "2024-02-16T05:18:52.753238Z"
    },
    "papermill": {
     "duration": 0.436303,
     "end_time": "2024-02-16T05:18:52.757095",
     "exception": false,
     "start_time": "2024-02-16T05:18:52.320792",
     "status": "completed"
    },
    "tags": []
   },
   "outputs": [
    {
     "name": "stderr",
     "output_type": "stream",
     "text": [
      "/opt/conda/lib/python3.10/site-packages/seaborn/_oldcore.py:1119: FutureWarning:\n",
      "\n",
      "use_inf_as_na option is deprecated and will be removed in a future version. Convert inf values to NaN before operating instead.\n",
      "\n"
     ]
    },
    {
     "data": {
      "image/png": "[encoded data removed]",
      "text/plain": [
       "<Figure size 1000x600 with 1 Axes>"
      ]
     },
     "metadata": {},
     "output_type": "display_data"
    }
   ],
   "source": [
    "# Create a histogram\n",
    "plt.figure(figsize=(10, 6))\n",
    "sns.histplot(df['Sales_in_millions'], bins=20, kde=True, color='skyblue')\n",
    "plt.title('Distribution of Sales')\n",
    "plt.xlabel('Sales (in millions)')\n",
    "plt.ylabel('Frequency')\n",
    "plt.show()"
   ]
  },
  {
   "cell_type": "markdown",
   "id": "b012f34b",
   "metadata": {
    "execution": {
     "iopub.execute_input": "2024-02-16T04:37:20.462613Z",
     "iopub.status.busy": "2024-02-16T04:37:20.462157Z",
     "iopub.status.idle": "2024-02-16T04:37:21.152593Z",
     "shell.execute_reply": "2024-02-16T04:37:21.150747Z",
     "shell.execute_reply.started": "2024-02-16T04:37:20.462582Z"
    },
    "papermill": {
     "duration": 0.023854,
     "end_time": "2024-02-16T05:18:52.806340",
     "exception": false,
     "start_time": "2024-02-16T05:18:52.782486",
     "status": "completed"
    },
    "tags": []
   },
   "source": [
    "## Sales Per Language"
   ]
  },
  {
   "cell_type": "code",
   "execution_count": 22,
   "id": "6d8fdb64",
   "metadata": {
    "execution": {
     "iopub.execute_input": "2024-02-16T05:18:52.857175Z",
     "iopub.status.busy": "2024-02-16T05:18:52.856751Z",
     "iopub.status.idle": "2024-02-16T05:18:53.465562Z",
     "shell.execute_reply": "2024-02-16T05:18:53.464218Z"
    },
    "papermill": {
     "duration": 0.638067,
     "end_time": "2024-02-16T05:18:53.469008",
     "exception": false,
     "start_time": "2024-02-16T05:18:52.830941",
     "status": "completed"
    },
    "tags": []
   },
   "outputs": [
    {
     "data": {
      "image/png": "[encoded data removed]",
      "text/plain": [
       "<Figure size 1200x800 with 1 Axes>"
      ]
     },
     "metadata": {},
     "output_type": "display_data"
    }
   ],
   "source": [
    "# Create a violin plot\n",
    "plt.figure(figsize=(12, 8))\n",
    "sns.violinplot(x='Language', y='Sales_in_millions', data=df, palette='viridis')\n",
    "plt.title('Violin Plot of Sales per Language')\n",
    "plt.xlabel('Language')\n",
    "plt.ylabel('Sales (in millions)')\n",
    "plt.show()"
   ]
  },
  {
   "cell_type": "markdown",
   "id": "a51896bc",
   "metadata": {
    "papermill": {
     "duration": 0.025485,
     "end_time": "2024-02-16T05:18:53.519813",
     "exception": false,
     "start_time": "2024-02-16T05:18:53.494328",
     "status": "completed"
    },
    "tags": []
   },
   "source": [
    "# Machine Learning Modeling"
   ]
  },
  {
   "cell_type": "markdown",
   "id": "c730f230",
   "metadata": {
    "papermill": {
     "duration": 0.025373,
     "end_time": "2024-02-16T05:18:53.570717",
     "exception": false,
     "start_time": "2024-02-16T05:18:53.545344",
     "status": "completed"
    },
    "tags": []
   },
   "source": [
    "## Linear Regression"
   ]
  },
  {
   "cell_type": "code",
   "execution_count": 23,
   "id": "1c674b64",
   "metadata": {
    "execution": {
     "iopub.execute_input": "2024-02-16T05:18:53.623804Z",
     "iopub.status.busy": "2024-02-16T05:18:53.623161Z",
     "iopub.status.idle": "2024-02-16T05:19:04.013789Z",
     "shell.execute_reply": "2024-02-16T05:19:04.012621Z"
    },
    "papermill": {
     "duration": 10.420659,
     "end_time": "2024-02-16T05:19:04.016560",
     "exception": false,
     "start_time": "2024-02-16T05:18:53.595901",
     "status": "completed"
    },
    "tags": []
   },
   "outputs": [
    {
     "data": {
      "text/plain": [
       "<Figure size 1200x800 with 0 Axes>"
      ]
     },
     "metadata": {},
     "output_type": "display_data"
    },
    {
     "data": {
      "image/png": "[encoded data removed]",
      "text/plain": [
       "<Figure size 1200x600 with 1 Axes>"
      ]
     },
     "metadata": {},
     "output_type": "display_data"
    }
   ],
   "source": [
    "# Create a linear regression plot with robust regression\n",
    "plt.figure(figsize=(12, 8))\n",
    "sns.lmplot(x='year_published', y='Sales_in_millions', data=df, height=6, aspect=2, scatter_kws={'alpha': 0.5}, robust=True)\n",
    "plt.title('Robust Linear Regression of Sales vs. Year Published (Excluding Outliers)')\n",
    "plt.xlabel('Year Published')\n",
    "plt.ylabel('Sales (in millions)')\n",
    "plt.show()"
   ]
  },
  {
   "cell_type": "markdown",
   "id": "43f49b27",
   "metadata": {
    "papermill": {
     "duration": 0.026741,
     "end_time": "2024-02-16T05:19:04.070386",
     "exception": false,
     "start_time": "2024-02-16T05:19:04.043645",
     "status": "completed"
    },
    "tags": []
   },
   "source": [
    "## Multiple Regression"
   ]
  },
  {
   "cell_type": "code",
   "execution_count": 24,
   "id": "2e2a39d6",
   "metadata": {
    "execution": {
     "iopub.execute_input": "2024-02-16T05:19:04.126689Z",
     "iopub.status.busy": "2024-02-16T05:19:04.125473Z",
     "iopub.status.idle": "2024-02-16T05:19:04.133380Z",
     "shell.execute_reply": "2024-02-16T05:19:04.132459Z"
    },
    "papermill": {
     "duration": 0.03813,
     "end_time": "2024-02-16T05:19:04.135812",
     "exception": false,
     "start_time": "2024-02-16T05:19:04.097682",
     "status": "completed"
    },
    "tags": []
   },
   "outputs": [],
   "source": [
    "# Drop rows with missing values in 'Sales_in_millions'\n",
    "df_cleaned = df.dropna(subset=['Sales_in_millions'])"
   ]
  },
  {
   "cell_type": "code",
   "execution_count": 25,
   "id": "7407f819",
   "metadata": {
    "execution": {
     "iopub.execute_input": "2024-02-16T05:19:04.191279Z",
     "iopub.status.busy": "2024-02-16T05:19:04.190593Z",
     "iopub.status.idle": "2024-02-16T05:19:04.196826Z",
     "shell.execute_reply": "2024-02-16T05:19:04.195931Z"
    },
    "papermill": {
     "duration": 0.036892,
     "end_time": "2024-02-16T05:19:04.199016",
     "exception": false,
     "start_time": "2024-02-16T05:19:04.162124",
     "status": "completed"
    },
    "tags": []
   },
   "outputs": [],
   "source": [
    "X_cleaned = df_cleaned[['year_published', 'Language_encoded', 'Authors_encoded']]\n",
    "y_cleaned = df_cleaned['Sales_in_millions']"
   ]
  },
  {
   "cell_type": "code",
   "execution_count": 26,
   "id": "65c248a0",
   "metadata": {
    "execution": {
     "iopub.execute_input": "2024-02-16T05:19:04.253426Z",
     "iopub.status.busy": "2024-02-16T05:19:04.252789Z",
     "iopub.status.idle": "2024-02-16T05:19:04.259654Z",
     "shell.execute_reply": "2024-02-16T05:19:04.258768Z"
    },
    "papermill": {
     "duration": 0.036915,
     "end_time": "2024-02-16T05:19:04.261976",
     "exception": false,
     "start_time": "2024-02-16T05:19:04.225061",
     "status": "completed"
    },
    "tags": []
   },
   "outputs": [],
   "source": [
    "# Split the data into training and testing sets\n",
    "X_train_cleaned, X_test_cleaned, y_train_cleaned, y_test_cleaned = train_test_split(X_cleaned, y_cleaned, test_size=0.2, random_state=42)"
   ]
  },
  {
   "cell_type": "code",
   "execution_count": 27,
   "id": "f9be8e84",
   "metadata": {
    "execution": {
     "iopub.execute_input": "2024-02-16T05:19:04.319542Z",
     "iopub.status.busy": "2024-02-16T05:19:04.318880Z",
     "iopub.status.idle": "2024-02-16T05:19:04.350859Z",
     "shell.execute_reply": "2024-02-16T05:19:04.349747Z"
    },
    "papermill": {
     "duration": 0.062395,
     "end_time": "2024-02-16T05:19:04.353177",
     "exception": false,
     "start_time": "2024-02-16T05:19:04.290782",
     "status": "completed"
    },
    "tags": []
   },
   "outputs": [
    {
     "data": {
      "text/html": [
       "<style>#sk-container-id-1 {color: black;background-color: white;}#sk-container-id-1 pre{padding: 0;}#sk-container-id-1 div.sk-toggleable {background-color: white;}#sk-container-id-1 label.sk-toggleable__label {cursor: pointer;display: block;width: 100%;margin-bottom: 0;padding: 0.3em;box-sizing: border-box;text-align: center;}#sk-container-id-1 label.sk-toggleable__label-arrow:before {content: \"▸\";float: left;margin-right: 0.25em;color: #696969;}#sk-container-id-1 label.sk-toggleable__label-arrow:hover:before {color: black;}#sk-container-id-1 div.sk-estimator:hover label.sk-toggleable__label-arrow:before {color: black;}#sk-container-id-1 div.sk-toggleable__content {max-height: 0;max-width: 0;overflow: hidden;text-align: left;background-color: #f0f8ff;}#sk-container-id-1 div.sk-toggleable__content pre {margin: 0.2em;color: black;border-radius: 0.25em;background-color: #f0f8ff;}#sk-container-id-1 input.sk-toggleable__control:checked~div.sk-toggleable__content {max-height: 200px;max-width: 100%;overflow: auto;}#sk-container-id-1 input.sk-toggleable__control:checked~label.sk-toggleable__label-arrow:before {content: \"▾\";}#sk-container-id-1 div.sk-estimator input.sk-toggleable__control:checked~label.sk-toggleable__label {background-color: #d4ebff;}#sk-container-id-1 div.sk-label input.sk-toggleable__control:checked~label.sk-toggleable__label {background-color: #d4ebff;}#sk-container-id-1 input.sk-hidden--visually {border: 0;clip: rect(1px 1px 1px 1px);clip: rect(1px, 1px, 1px, 1px);height: 1px;margin: -1px;overflow: hidden;padding: 0;position: absolute;width: 1px;}#sk-container-id-1 div.sk-estimator {font-family: monospace;background-color: #f0f8ff;border: 1px dotted black;border-radius: 0.25em;box-sizing: border-box;margin-bottom: 0.5em;}#sk-container-id-1 div.sk-estimator:hover {background-color: #d4ebff;}#sk-container-id-1 div.sk-parallel-item::after {content: \"\";width: 100%;border-bottom: 1px solid gray;flex-grow: 1;}#sk-container-id-1 div.sk-label:hover label.sk-toggleable__label {background-color: #d4ebff;}#sk-container-id-1 div.sk-serial::before {content: \"\";position: absolute;border-left: 1px solid gray;box-sizing: border-box;top: 0;bottom: 0;left: 50%;z-index: 0;}#sk-container-id-1 div.sk-serial {display: flex;flex-direction: column;align-items: center;background-color: white;padding-right: 0.2em;padding-left: 0.2em;position: relative;}#sk-container-id-1 div.sk-item {position: relative;z-index: 1;}#sk-container-id-1 div.sk-parallel {display: flex;align-items: stretch;justify-content: center;background-color: white;position: relative;}#sk-container-id-1 div.sk-item::before, #sk-container-id-1 div.sk-parallel-item::before {content: \"\";position: absolute;border-left: 1px solid gray;box-sizing: border-box;top: 0;bottom: 0;left: 50%;z-index: -1;}#sk-container-id-1 div.sk-parallel-item {display: flex;flex-direction: column;z-index: 1;position: relative;background-color: white;}#sk-container-id-1 div.sk-parallel-item:first-child::after {align-self: flex-end;width: 50%;}#sk-container-id-1 div.sk-parallel-item:last-child::after {align-self: flex-start;width: 50%;}#sk-container-id-1 div.sk-parallel-item:only-child::after {width: 0;}#sk-container-id-1 div.sk-dashed-wrapped {border: 1px dashed gray;margin: 0 0.4em 0.5em 0.4em;box-sizing: border-box;padding-bottom: 0.4em;background-color: white;}#sk-container-id-1 div.sk-label label {font-family: monospace;font-weight: bold;display: inline-block;line-height: 1.2em;}#sk-container-id-1 div.sk-label-container {text-align: center;}#sk-container-id-1 div.sk-container {/* jupyter's `normalize.less` sets `[hidden] { display: none; }` but bootstrap.min.css set `[hidden] { display: none !important; }` so we also need the `!important` here to be able to override the default hidden behavior on the sphinx rendered scikit-learn.org. See: https://github.com/scikit-learn/scikit-learn/issues/21755 */display: inline-block !important;position: relative;}#sk-container-id-1 div.sk-text-repr-fallback {display: none;}</style><div id=\"sk-container-id-1\" class=\"sk-top-container\"><div class=\"sk-text-repr-fallback\"><pre>LinearRegression()</pre><b>In a Jupyter environment, please rerun this cell to show the HTML representation or trust the notebook. <br />On GitHub, the HTML representation is unable to render, please try loading this page with nbviewer.org.</b></div><div class=\"sk-container\" hidden><div class=\"sk-item\"><div class=\"sk-estimator sk-toggleable\"><input class=\"sk-toggleable__control sk-hidden--visually\" id=\"sk-estimator-id-1\" type=\"checkbox\" checked><label for=\"sk-estimator-id-1\" class=\"sk-toggleable__label sk-toggleable__label-arrow\">LinearRegression</label><div class=\"sk-toggleable__content\"><pre>LinearRegression()</pre></div></div></div></div></div>"
      ],
      "text/plain": [
       "LinearRegression()"
      ]
     },
     "execution_count": 27,
     "metadata": {},
     "output_type": "execute_result"
    }
   ],
   "source": [
    "# Create and fit the linear regression model\n",
    "model_cleaned = LinearRegression()\n",
    "model_cleaned.fit(X_train_cleaned, y_train_cleaned)"
   ]
  },
  {
   "cell_type": "code",
   "execution_count": 28,
   "id": "765359e6",
   "metadata": {
    "execution": {
     "iopub.execute_input": "2024-02-16T05:19:04.417499Z",
     "iopub.status.busy": "2024-02-16T05:19:04.416969Z",
     "iopub.status.idle": "2024-02-16T05:19:04.432079Z",
     "shell.execute_reply": "2024-02-16T05:19:04.429560Z"
    },
    "papermill": {
     "duration": 0.056799,
     "end_time": "2024-02-16T05:19:04.436369",
     "exception": false,
     "start_time": "2024-02-16T05:19:04.379570",
     "status": "completed"
    },
    "tags": []
   },
   "outputs": [
    {
     "name": "stdout",
     "output_type": "stream",
     "text": [
      "Mean Squared Error: 6095.998084968471\n",
      "Coefficients: [-0.12690604 -1.99718274 -0.05595586]\n",
      "Intercept: 313.78963214896544\n"
     ]
    }
   ],
   "source": [
    "# Make predictions on the test set\n",
    "y_pred_cleaned = model_cleaned.predict(X_test_cleaned)\n",
    "\n",
    "# Evaluate the model\n",
    "mse_cleaned = mean_squared_error(y_test_cleaned, y_pred_cleaned)\n",
    "print(f'Mean Squared Error: {mse_cleaned}')\n",
    "\n",
    "# Print the coefficients and intercept of the cleaned model\n",
    "print('Coefficients:', model_cleaned.coef_)\n",
    "print('Intercept:', model_cleaned.intercept_)"
   ]
  },
  {
   "cell_type": "markdown",
   "id": "4c4043ff",
   "metadata": {
    "papermill": {
     "duration": 0.026184,
     "end_time": "2024-02-16T05:19:04.493913",
     "exception": false,
     "start_time": "2024-02-16T05:19:04.467729",
     "status": "completed"
    },
    "tags": []
   },
   "source": [
    "## Decision Tree Model"
   ]
  },
  {
   "cell_type": "code",
   "execution_count": 29,
   "id": "0eb6a86b",
   "metadata": {
    "execution": {
     "iopub.execute_input": "2024-02-16T05:19:04.548755Z",
     "iopub.status.busy": "2024-02-16T05:19:04.548354Z",
     "iopub.status.idle": "2024-02-16T05:19:04.557872Z",
     "shell.execute_reply": "2024-02-16T05:19:04.557054Z"
    },
    "papermill": {
     "duration": 0.039848,
     "end_time": "2024-02-16T05:19:04.560389",
     "exception": false,
     "start_time": "2024-02-16T05:19:04.520541",
     "status": "completed"
    },
    "tags": []
   },
   "outputs": [
    {
     "name": "stdout",
     "output_type": "stream",
     "text": [
      "Unnamed: 0           0\n",
      "Books                0\n",
      "Authors              0\n",
      "Language             0\n",
      "published_during     0\n",
      "Sales_in_millions    0\n",
      "Language_encoded     0\n",
      "year_published       0\n",
      "Authors_encoded      0\n",
      "published_in_2023    0\n",
      "dtype: int64\n"
     ]
    }
   ],
   "source": [
    "# Remove rows with missing values in the 'Sales_in_millions' column\n",
    "df_cleaned = df.dropna(subset=['Sales_in_millions'])\n",
    "\n",
    "# Verify that missing values have been removed\n",
    "missing_values_cleaned = df_cleaned.isnull().sum()\n",
    "print(missing_values_cleaned)"
   ]
  },
  {
   "cell_type": "code",
   "execution_count": 30,
   "id": "33c473a1",
   "metadata": {
    "execution": {
     "iopub.execute_input": "2024-02-16T05:19:04.616440Z",
     "iopub.status.busy": "2024-02-16T05:19:04.615365Z",
     "iopub.status.idle": "2024-02-16T05:19:04.633859Z",
     "shell.execute_reply": "2024-02-16T05:19:04.632503Z"
    },
    "papermill": {
     "duration": 0.049068,
     "end_time": "2024-02-16T05:19:04.636182",
     "exception": false,
     "start_time": "2024-02-16T05:19:04.587114",
     "status": "completed"
    },
    "tags": []
   },
   "outputs": [
    {
     "name": "stdout",
     "output_type": "stream",
     "text": [
      "Mean Squared Error: 9491.372413793106\n",
      "R-squared: -0.6270002363669387\n"
     ]
    }
   ],
   "source": [
    "# Select features (X) and target variable (y)\n",
    "X = df_cleaned[['Language_encoded', 'year_published', 'Authors_encoded']]\n",
    "y = df_cleaned['Sales_in_millions']\n",
    "\n",
    "# Split the data into training and testing sets\n",
    "X_train, X_test, y_train, y_test = train_test_split(X, y, test_size=0.2, random_state=42)\n",
    "\n",
    "# Create and fit the decision tree model\n",
    "decision_tree_model = DecisionTreeRegressor(random_state=42)\n",
    "decision_tree_model.fit(X_train, y_train)\n",
    "\n",
    "# Make predictions on the test set\n",
    "y_pred = decision_tree_model.predict(X_test)\n",
    "\n",
    "# Evaluate the model\n",
    "from sklearn.metrics import mean_squared_error, r2_score\n",
    "mse = mean_squared_error(y_test, y_pred)\n",
    "r2 = r2_score(y_test, y_pred)\n",
    "\n",
    "print(f'Mean Squared Error: {mse}')\n",
    "print(f'R-squared: {r2}')"
   ]
  },
  {
   "cell_type": "markdown",
   "id": "bda15864",
   "metadata": {
    "papermill": {
     "duration": 0.026541,
     "end_time": "2024-02-16T05:19:04.689404",
     "exception": false,
     "start_time": "2024-02-16T05:19:04.662863",
     "status": "completed"
    },
    "tags": []
   },
   "source": [
    "## Random Forest Model"
   ]
  },
  {
   "cell_type": "code",
   "execution_count": 31,
   "id": "40c7660d",
   "metadata": {
    "execution": {
     "iopub.execute_input": "2024-02-16T05:19:04.745105Z",
     "iopub.status.busy": "2024-02-16T05:19:04.744126Z",
     "iopub.status.idle": "2024-02-16T05:19:04.987162Z",
     "shell.execute_reply": "2024-02-16T05:19:04.985966Z"
    },
    "papermill": {
     "duration": 0.273707,
     "end_time": "2024-02-16T05:19:04.990080",
     "exception": false,
     "start_time": "2024-02-16T05:19:04.716373",
     "status": "completed"
    },
    "tags": []
   },
   "outputs": [],
   "source": [
    "# Create and fit the Random Forest model\n",
    "random_forest_model = RandomForestRegressor(random_state=42)\n",
    "random_forest_model.fit(X_train, y_train)\n",
    "\n",
    "# Make predictions on the test set\n",
    "y_pred_rf = random_forest_model.predict(X_test)"
   ]
  },
  {
   "cell_type": "code",
   "execution_count": 32,
   "id": "27f43d3d",
   "metadata": {
    "execution": {
     "iopub.execute_input": "2024-02-16T05:19:05.046532Z",
     "iopub.status.busy": "2024-02-16T05:19:05.045872Z",
     "iopub.status.idle": "2024-02-16T05:19:05.052965Z",
     "shell.execute_reply": "2024-02-16T05:19:05.051683Z"
    },
    "papermill": {
     "duration": 0.037727,
     "end_time": "2024-02-16T05:19:05.055125",
     "exception": false,
     "start_time": "2024-02-16T05:19:05.017398",
     "status": "completed"
    },
    "tags": []
   },
   "outputs": [
    {
     "name": "stdout",
     "output_type": "stream",
     "text": [
      "Mean Absolute Error (Random Forest): 54.32082471264367\n"
     ]
    }
   ],
   "source": [
    "# Evaluate the model\n",
    "# Calculate Mean Absolute Error\n",
    "from sklearn.metrics import mean_absolute_error\n",
    "mae_rf = mean_absolute_error(y_test, y_pred_rf)\n",
    "\n",
    "print(f'Mean Absolute Error (Random Forest): {mae_rf}')"
   ]
  },
  {
   "cell_type": "code",
   "execution_count": null,
   "id": "9d41ef89",
   "metadata": {
    "papermill": {
     "duration": 0.027467,
     "end_time": "2024-02-16T05:19:05.109785",
     "exception": false,
     "start_time": "2024-02-16T05:19:05.082318",
     "status": "completed"
    },
    "tags": []
   },
   "outputs": [],
   "source": []
  }
 ],
 "metadata": {
  "kaggle": {
   "accelerator": "none",
   "dataSources": [
    {
     "datasetId": 4417653,
     "sourceId": 7589370,
     "sourceType": "datasetVersion"
    }
   ],
   "dockerImageVersionId": 30646,
   "isGpuEnabled": false,
   "isInternetEnabled": true,
   "language": "python",
   "sourceType": "notebook"
  },
  "kernelspec": {
   "display_name": "Python 3",
   "language": "python",
   "name": "python3"
  },
  "language_info": {
   "codemirror_mode": {
    "name": "ipython",
    "version": 3
   },
   "file_extension": ".py",
   "mimetype": "text/x-python",
   "name": "python",
   "nbconvert_exporter": "python",
   "pygments_lexer": "ipython3",
   "version": "3.10.13"
  },
  "papermill": {
   "default_parameters": {},
   "duration": 41.975887,
   "end_time": "2024-02-16T05:19:06.862604",
   "environment_variables": {},
   "exception": null,
   "input_path": "__notebook__.ipynb",
   "output_path": "__notebook__.ipynb",
   "parameters": {},
   "start_time": "2024-02-16T05:18:24.886717",
   "version": "2.5.0"
  }
 },
 "nbformat": 4,
 "nbformat_minor": 5
}
